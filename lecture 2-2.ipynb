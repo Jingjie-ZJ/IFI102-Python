{
 "cells": [
  {
   "cell_type": "markdown",
   "id": "f432b2ad",
   "metadata": {},
   "source": [
    "# Lecture 2-1: Combined Data Types\n",
    "\n",
    "In addition to string, integer, floating-point, complex, boolean, and nonetype, the fix basic data types we learned in the previous lecture, there are some other data types with more complex structure in Python. \n",
    "\n",
    "## Table of contents\n",
    "\n",
    "* [1 List](#1)\n",
    "* [2 Tuple](#2)\n",
    "* [3 Set](#3)\n",
    "* [4 Dict](#4)\n",
    "* [5 Wrap-up](#5)"
   ]
  },
  {
   "cell_type": "markdown",
   "id": "0e1dac3a",
   "metadata": {},
   "source": [
    "## 1 List <a class=\"anchor\" id=\"1\"></a>\n",
    "\n",
    "Lists are just like the arrays, declared in other languages which is a **ordered** collection of data. It is very flexible as the items in a list **do not need to be of the same type**.\n",
    "\n",
    "List can be recognized by their **square brackets** which hold elements and are separated by a comma."
   ]
  },
  {
   "cell_type": "code",
   "execution_count": 1,
   "id": "82b2b55b",
   "metadata": {},
   "outputs": [
    {
     "name": "stdout",
     "output_type": "stream",
     "text": [
      "[1, 2, 3, 4] <class 'list'>\n",
      "['A', 'B', 'C'] <class 'list'>\n",
      "['2', 'thank you', (4+7j), False, 0.9999] <class 'list'>\n"
     ]
    }
   ],
   "source": [
    "my_list_1 = [1,2,3,4]\n",
    "my_list_2 = ['A','B','C']\n",
    "my_list_3 = ['2','thank you',4+7j,False,0.9999]\n",
    "print(my_list_1, type(my_list_1))\n",
    "print(my_list_2, type(my_list_2))\n",
    "print(my_list_3, type(my_list_3))"
   ]
  },
  {
   "cell_type": "code",
   "execution_count": 2,
   "id": "94ac9c33",
   "metadata": {},
   "outputs": [
    {
     "name": "stdout",
     "output_type": "stream",
     "text": [
      "1 <class 'int'>\n"
     ]
    }
   ],
   "source": [
    "print(my_list_1[0],type(my_list_1[0]))"
   ]
  },
  {
   "cell_type": "code",
   "execution_count": 3,
   "id": "f0ff40e4",
   "metadata": {},
   "outputs": [
    {
     "name": "stdout",
     "output_type": "stream",
     "text": [
      "False <class 'bool'>\n"
     ]
    }
   ],
   "source": [
    "print(my_list_3[-2],type(my_list_3[-2]))"
   ]
  },
  {
   "cell_type": "code",
   "execution_count": 4,
   "id": "e021206d",
   "metadata": {},
   "outputs": [
    {
     "name": "stdout",
     "output_type": "stream",
     "text": [
      "['thank you', (4+7j), False] <class 'list'>\n"
     ]
    }
   ],
   "source": [
    "print(my_list_3[1:4],type(my_list_3[1:4]))"
   ]
  },
  {
   "cell_type": "code",
   "execution_count": 5,
   "id": "df8475b6",
   "metadata": {},
   "outputs": [
    {
     "name": "stdout",
     "output_type": "stream",
     "text": [
      "[['thank you', (4+7j), False], <class 'list'>]\n"
     ]
    }
   ],
   "source": [
    "print([my_list_3[1:4],type(my_list_3[1:4])])"
   ]
  },
  {
   "cell_type": "code",
   "execution_count": 7,
   "id": "7412a493",
   "metadata": {},
   "outputs": [
    {
     "name": "stdout",
     "output_type": "stream",
     "text": [
      "['thank you', (4+7j), False]\n"
     ]
    }
   ],
   "source": [
    "temp = [my_list_3[1:4],type(my_list_3[1:4])]\n",
    "print(temp[0])"
   ]
  },
  {
   "cell_type": "code",
   "execution_count": 8,
   "id": "ac914352",
   "metadata": {},
   "outputs": [
    {
     "name": "stdout",
     "output_type": "stream",
     "text": [
      "(4+7j)\n"
     ]
    }
   ],
   "source": [
    "print(temp[0][1])"
   ]
  },
  {
   "cell_type": "code",
   "execution_count": 9,
   "id": "acf30b8c",
   "metadata": {},
   "outputs": [
    {
     "ename": "TypeError",
     "evalue": "'type' object is not subscriptable",
     "output_type": "error",
     "traceback": [
      "\u001b[0;31m---------------------------------------------------------------------------\u001b[0m",
      "\u001b[0;31mTypeError\u001b[0m                                 Traceback (most recent call last)",
      "\u001b[0;32m/var/folders/t9/6jg89mh93bzgh5g6112hkxsm0000gn/T/ipykernel_4952/1982381099.py\u001b[0m in \u001b[0;36m<module>\u001b[0;34m\u001b[0m\n\u001b[0;32m----> 1\u001b[0;31m \u001b[0mprint\u001b[0m\u001b[0;34m(\u001b[0m\u001b[0mtemp\u001b[0m\u001b[0;34m[\u001b[0m\u001b[0;36m1\u001b[0m\u001b[0;34m]\u001b[0m\u001b[0;34m[\u001b[0m\u001b[0;36m0\u001b[0m\u001b[0;34m]\u001b[0m\u001b[0;34m)\u001b[0m\u001b[0;34m\u001b[0m\u001b[0;34m\u001b[0m\u001b[0m\n\u001b[0m",
      "\u001b[0;31mTypeError\u001b[0m: 'type' object is not subscriptable"
     ]
    }
   ],
   "source": [
    "print(temp[1][0])"
   ]
  },
  {
   "cell_type": "code",
   "execution_count": 10,
   "id": "93f049b8",
   "metadata": {},
   "outputs": [
    {
     "name": "stdout",
     "output_type": "stream",
     "text": [
      "c\n"
     ]
    }
   ],
   "source": [
    "temp_2 = [1,2,'abc']\n",
    "print(temp_2[2][2])"
   ]
  },
  {
   "cell_type": "code",
   "execution_count": 12,
   "id": "9be6815d",
   "metadata": {},
   "outputs": [],
   "source": [
    "tower = [1,[1,[1,2]],[1,[1,2],[1,2,3]]]"
   ]
  },
  {
   "cell_type": "code",
   "execution_count": 13,
   "id": "24d57cbe",
   "metadata": {},
   "outputs": [
    {
     "name": "stdout",
     "output_type": "stream",
     "text": [
      "3\n"
     ]
    }
   ],
   "source": [
    "print(tower[2][2][2])"
   ]
  },
  {
   "cell_type": "code",
   "execution_count": 14,
   "id": "1bd1ec1a",
   "metadata": {},
   "outputs": [],
   "source": [
    "name = [\"alice\", \"bob\", \"cindy\", \"dale\",\"eric\"]"
   ]
  },
  {
   "cell_type": "code",
   "execution_count": 15,
   "id": "c4255918",
   "metadata": {},
   "outputs": [
    {
     "name": "stdout",
     "output_type": "stream",
     "text": [
      "['alice', 'bob', 'cindy', 'dale', 'eric']\n",
      "['alice', 'ben', 'cindy', 'dale', 'eric']\n"
     ]
    }
   ],
   "source": [
    "print(name)\n",
    "name[1] = 'ben'\n",
    "print(name)"
   ]
  },
  {
   "cell_type": "code",
   "execution_count": 16,
   "id": "3a126b93",
   "metadata": {},
   "outputs": [
    {
     "name": "stdout",
     "output_type": "stream",
     "text": [
      "['alice', 'ben', 'cindy', 'dale', 'eric', 'frank']\n"
     ]
    }
   ],
   "source": [
    "name.append('frank')\n",
    "print(name)"
   ]
  },
  {
   "cell_type": "code",
   "execution_count": 17,
   "id": "4c6ddc67",
   "metadata": {},
   "outputs": [
    {
     "name": "stdout",
     "output_type": "stream",
     "text": [
      "['alice', 'ben', 'grace', 'cindy', 'dale', 'eric', 'frank']\n"
     ]
    }
   ],
   "source": [
    "name.insert(2,'grace')\n",
    "print(name)"
   ]
  },
  {
   "cell_type": "code",
   "execution_count": 18,
   "id": "ad6c7eec",
   "metadata": {},
   "outputs": [
    {
     "ename": "ValueError",
     "evalue": "list.remove(x): x not in list",
     "output_type": "error",
     "traceback": [
      "\u001b[0;31m---------------------------------------------------------------------------\u001b[0m",
      "\u001b[0;31mValueError\u001b[0m                                Traceback (most recent call last)",
      "\u001b[0;32m/var/folders/t9/6jg89mh93bzgh5g6112hkxsm0000gn/T/ipykernel_4952/1577710111.py\u001b[0m in \u001b[0;36m<module>\u001b[0;34m\u001b[0m\n\u001b[0;32m----> 1\u001b[0;31m \u001b[0mname\u001b[0m\u001b[0;34m.\u001b[0m\u001b[0mremove\u001b[0m\u001b[0;34m(\u001b[0m\u001b[0;34m'Grace'\u001b[0m\u001b[0;34m)\u001b[0m\u001b[0;34m\u001b[0m\u001b[0;34m\u001b[0m\u001b[0m\n\u001b[0m",
      "\u001b[0;31mValueError\u001b[0m: list.remove(x): x not in list"
     ]
    }
   ],
   "source": [
    "name.remove('Grace')"
   ]
  },
  {
   "cell_type": "code",
   "execution_count": 19,
   "id": "947211bb",
   "metadata": {},
   "outputs": [
    {
     "name": "stdout",
     "output_type": "stream",
     "text": [
      "['alice', 'ben', 'cindy', 'dale', 'eric', 'frank']\n"
     ]
    }
   ],
   "source": [
    "name.remove('grace')\n",
    "print(name)"
   ]
  },
  {
   "cell_type": "code",
   "execution_count": 20,
   "id": "7dca0605",
   "metadata": {},
   "outputs": [],
   "source": [
    "name.remove(name[3])"
   ]
  },
  {
   "cell_type": "code",
   "execution_count": 21,
   "id": "2a8ab274",
   "metadata": {},
   "outputs": [
    {
     "name": "stdout",
     "output_type": "stream",
     "text": [
      "['alice', 'ben', 'cindy', 'eric', 'frank']\n"
     ]
    }
   ],
   "source": [
    "print(name)"
   ]
  },
  {
   "cell_type": "code",
   "execution_count": 22,
   "id": "57b517f4",
   "metadata": {},
   "outputs": [
    {
     "name": "stdout",
     "output_type": "stream",
     "text": [
      "['alice', 'ben', 'cindy', 'eric']\n"
     ]
    }
   ],
   "source": [
    "del name[-1]\n",
    "print(name)"
   ]
  },
  {
   "cell_type": "code",
   "execution_count": 23,
   "id": "bc9d6d8c",
   "metadata": {},
   "outputs": [
    {
     "name": "stdout",
     "output_type": "stream",
     "text": [
      "['alice', 'ben', 'cindy']\n"
     ]
    }
   ],
   "source": [
    "name.pop()\n",
    "print(name)"
   ]
  },
  {
   "cell_type": "code",
   "execution_count": 24,
   "id": "b5aa8e05",
   "metadata": {},
   "outputs": [
    {
     "name": "stdout",
     "output_type": "stream",
     "text": [
      "['alice', 'ben', 'cindy']\n"
     ]
    }
   ],
   "source": [
    "name.append(name.pop())\n",
    "print(name)"
   ]
  },
  {
   "cell_type": "code",
   "execution_count": 25,
   "id": "07816227",
   "metadata": {},
   "outputs": [
    {
     "name": "stdout",
     "output_type": "stream",
     "text": [
      "alice ['ben', 'cindy']\n"
     ]
    }
   ],
   "source": [
    "x = name.pop(0)\n",
    "print(x, name)"
   ]
  },
  {
   "cell_type": "code",
   "execution_count": 26,
   "id": "293a6d17",
   "metadata": {},
   "outputs": [
    {
     "name": "stdout",
     "output_type": "stream",
     "text": [
      "6\n"
     ]
    }
   ],
   "source": [
    "seq = [-3,5,6.9,133,2,-5]\n",
    "print(len(seq))"
   ]
  },
  {
   "cell_type": "code",
   "execution_count": 27,
   "id": "20f99037",
   "metadata": {},
   "outputs": [
    {
     "name": "stdout",
     "output_type": "stream",
     "text": [
      "[-5, -3, 2, 5, 6.9, 133]\n",
      "[-3, 5, 6.9, 133, 2, -5]\n"
     ]
    }
   ],
   "source": [
    "print(sorted(seq))\n",
    "print(seq)"
   ]
  },
  {
   "cell_type": "code",
   "execution_count": 28,
   "id": "576b3ada",
   "metadata": {},
   "outputs": [
    {
     "name": "stdout",
     "output_type": "stream",
     "text": [
      "[-5, -3, 2, 5, 6.9, 133]\n"
     ]
    }
   ],
   "source": [
    "seq.sort()\n",
    "print(seq)"
   ]
  },
  {
   "cell_type": "code",
   "execution_count": 29,
   "id": "d6871d68",
   "metadata": {},
   "outputs": [
    {
     "name": "stdout",
     "output_type": "stream",
     "text": [
      "None\n"
     ]
    }
   ],
   "source": [
    "print(seq.sort())"
   ]
  },
  {
   "cell_type": "code",
   "execution_count": 30,
   "id": "44906d0a",
   "metadata": {},
   "outputs": [
    {
     "name": "stdout",
     "output_type": "stream",
     "text": [
      "[133, 6.9, 5, 2, -3, -5]\n"
     ]
    }
   ],
   "source": [
    "seq.reverse()\n",
    "print(seq)"
   ]
  },
  {
   "cell_type": "code",
   "execution_count": 33,
   "id": "51f4770e",
   "metadata": {},
   "outputs": [
    {
     "name": "stdout",
     "output_type": "stream",
     "text": [
      "[133, 6.9, 5, 2, -3, -5]\n"
     ]
    }
   ],
   "source": [
    "seq = [-3,5,6.9,133,2,-5]\n",
    "seq.sort()\n",
    "seq.reverse()\n",
    "print(seq)"
   ]
  },
  {
   "cell_type": "code",
   "execution_count": 34,
   "id": "c3331694",
   "metadata": {},
   "outputs": [
    {
     "name": "stdout",
     "output_type": "stream",
     "text": [
      "[133, 6.9, 5, 2, -3, -5]\n"
     ]
    }
   ],
   "source": [
    "seq.sort(reverse=True)\n",
    "print(seq)"
   ]
  },
  {
   "cell_type": "code",
   "execution_count": 35,
   "id": "3e3814b8",
   "metadata": {},
   "outputs": [
    {
     "data": {
      "text/plain": [
       "['__add__',\n",
       " '__class__',\n",
       " '__contains__',\n",
       " '__delattr__',\n",
       " '__delitem__',\n",
       " '__dir__',\n",
       " '__doc__',\n",
       " '__eq__',\n",
       " '__format__',\n",
       " '__ge__',\n",
       " '__getattribute__',\n",
       " '__getitem__',\n",
       " '__gt__',\n",
       " '__hash__',\n",
       " '__iadd__',\n",
       " '__imul__',\n",
       " '__init__',\n",
       " '__init_subclass__',\n",
       " '__iter__',\n",
       " '__le__',\n",
       " '__len__',\n",
       " '__lt__',\n",
       " '__mul__',\n",
       " '__ne__',\n",
       " '__new__',\n",
       " '__reduce__',\n",
       " '__reduce_ex__',\n",
       " '__repr__',\n",
       " '__reversed__',\n",
       " '__rmul__',\n",
       " '__setattr__',\n",
       " '__setitem__',\n",
       " '__sizeof__',\n",
       " '__str__',\n",
       " '__subclasshook__',\n",
       " 'append',\n",
       " 'clear',\n",
       " 'copy',\n",
       " 'count',\n",
       " 'extend',\n",
       " 'index',\n",
       " 'insert',\n",
       " 'pop',\n",
       " 'remove',\n",
       " 'reverse',\n",
       " 'sort']"
      ]
     },
     "execution_count": 35,
     "metadata": {},
     "output_type": "execute_result"
    }
   ],
   "source": [
    "dir(list)"
   ]
  },
  {
   "cell_type": "code",
   "execution_count": 36,
   "id": "5aac1384",
   "metadata": {},
   "outputs": [
    {
     "name": "stdout",
     "output_type": "stream",
     "text": [
      "['ben', 'cindy']\n",
      "['ben', 'cindy', 'jane', 'kate']\n"
     ]
    }
   ],
   "source": [
    "print(name)\n",
    "name.extend(['jane','kate'])\n",
    "print(name)"
   ]
  },
  {
   "cell_type": "code",
   "execution_count": 37,
   "id": "05284df3",
   "metadata": {},
   "outputs": [
    {
     "name": "stdout",
     "output_type": "stream",
     "text": [
      "[3, 2, 1, 0, 3, 2, 1, 0]\n"
     ]
    }
   ],
   "source": [
    "lst = [3,2,1]\n",
    "lst = (lst+[0])*2\n",
    "print(lst)"
   ]
  },
  {
   "cell_type": "code",
   "execution_count": null,
   "id": "63ccfd97",
   "metadata": {},
   "outputs": [],
   "source": [
    "lst = []\n",
    "lst = tuple(lst)\n",
    "print(lst)"
   ]
  },
  {
   "cell_type": "code",
   "execution_count": 80,
   "id": "0c020d28",
   "metadata": {},
   "outputs": [
    {
     "name": "stdout",
     "output_type": "stream",
     "text": [
      "[0, 1, 2, 3]\n"
     ]
    }
   ],
   "source": [
    "y = [1,2,3]\n",
    "y.insert(0,0)\n",
    "print(y)"
   ]
  },
  {
   "cell_type": "code",
   "execution_count": 81,
   "id": "654b281f",
   "metadata": {},
   "outputs": [
    {
     "name": "stdout",
     "output_type": "stream",
     "text": [
      "[0, 1, 2, 3]\n"
     ]
    }
   ],
   "source": [
    "y = [1,2,3]\n",
    "y = [0]+y\n",
    "print(y)"
   ]
  },
  {
   "cell_type": "code",
   "execution_count": 83,
   "id": "f8914082",
   "metadata": {},
   "outputs": [
    {
     "name": "stdout",
     "output_type": "stream",
     "text": [
      "[0, 1, 2, 3]\n"
     ]
    }
   ],
   "source": [
    "y = [1,2,3]\n",
    "z = [0]\n",
    "z.extend(y)\n",
    "print(z)"
   ]
  },
  {
   "cell_type": "markdown",
   "id": "07308237",
   "metadata": {},
   "source": [
    "#### Exercise 1"
   ]
  },
  {
   "cell_type": "code",
   "execution_count": null,
   "id": "c888bcdf",
   "metadata": {},
   "outputs": [],
   "source": [
    "# Given a list [3,2,1], how to get a new list = [3,2,1,0,1,2,3]"
   ]
  },
  {
   "cell_type": "code",
   "execution_count": 38,
   "id": "4f3f0707",
   "metadata": {},
   "outputs": [
    {
     "name": "stdout",
     "output_type": "stream",
     "text": [
      "[3, 2, 1, 0, 1, 2, 3]\n"
     ]
    }
   ],
   "source": [
    "lst = [3,2,1]\n",
    "lst_new = lst+[0,1,2,3]\n",
    "print(lst_new)"
   ]
  },
  {
   "cell_type": "code",
   "execution_count": 39,
   "id": "4b5b4bd4",
   "metadata": {},
   "outputs": [
    {
     "name": "stdout",
     "output_type": "stream",
     "text": [
      "[3, 2, 1, 0, 1, 2, 3]\n"
     ]
    }
   ],
   "source": [
    "lst = [3,2,1]\n",
    "lst.extend([0,1,2,3])\n",
    "print(lst)"
   ]
  },
  {
   "cell_type": "code",
   "execution_count": 40,
   "id": "19b344aa",
   "metadata": {},
   "outputs": [
    {
     "name": "stdout",
     "output_type": "stream",
     "text": [
      "[1, 2, 3, 0, 1, 2, 3]\n"
     ]
    }
   ],
   "source": [
    "lst = [3,2,1]\n",
    "lst_copy = lst\n",
    "lst.reverse()\n",
    "lst_new = lst_copy+[0]+lst\n",
    "print(lst_new)"
   ]
  },
  {
   "cell_type": "code",
   "execution_count": 41,
   "id": "c4455209",
   "metadata": {},
   "outputs": [
    {
     "name": "stdout",
     "output_type": "stream",
     "text": [
      "[1, 2, 3]\n"
     ]
    }
   ],
   "source": [
    "lst = [3,2,1]\n",
    "lst_copy = lst\n",
    "lst_copy.reverse()\n",
    "print(lst)"
   ]
  },
  {
   "cell_type": "code",
   "execution_count": 42,
   "id": "672793d2",
   "metadata": {},
   "outputs": [
    {
     "name": "stdout",
     "output_type": "stream",
     "text": [
      "[3, 2, 1]\n"
     ]
    }
   ],
   "source": [
    "lst = [3,2,1]\n",
    "lst_copy = lst.copy()\n",
    "lst_copy.reverse()\n",
    "print(lst)"
   ]
  },
  {
   "cell_type": "code",
   "execution_count": 43,
   "id": "7979b295",
   "metadata": {},
   "outputs": [
    {
     "name": "stdout",
     "output_type": "stream",
     "text": [
      "[3, 2, 1, 0, 1, 2, 3]\n"
     ]
    }
   ],
   "source": [
    "lst = [3,2,1]\n",
    "lst_copy = lst.copy()\n",
    "lst.reverse()\n",
    "lst_new = lst_copy+[0]+lst\n",
    "print(lst_new)"
   ]
  },
  {
   "cell_type": "code",
   "execution_count": 44,
   "id": "4ce4c612",
   "metadata": {},
   "outputs": [
    {
     "name": "stdout",
     "output_type": "stream",
     "text": [
      "1\n",
      "2\n",
      "0\n"
     ]
    }
   ],
   "source": [
    "print(lst_new.count(0))\n",
    "print(lst_new.count(1))\n",
    "print(lst_new.count('hello'))"
   ]
  },
  {
   "cell_type": "markdown",
   "id": "037a9f17",
   "metadata": {},
   "source": [
    "## 2 Tuple <a class=\"anchor\" id=\"2\"></a>\n",
    "\n",
    "Just like list, tuple is also an **ordered** collection of Python objects. The only difference between tuple and list is that tuples are immutable i.e. tuples **cannot be modified** after it is created. It is represented by tuple class.\n",
    "\n",
    "Tuple can be recognized by their **parentheses** which hold elements and are separated by a comma.\n",
    "\n",
    "Note: Tuples can also be created with a single element, but it is a bit tricky. Having one element in the parentheses is not sufficient, there must be a trailing ‘comma’ to make it a tuple."
   ]
  },
  {
   "cell_type": "code",
   "execution_count": 45,
   "id": "abd1e132",
   "metadata": {},
   "outputs": [
    {
     "name": "stdout",
     "output_type": "stream",
     "text": [
      "() <class 'tuple'>\n",
      "False\n"
     ]
    }
   ],
   "source": [
    "empty_tuple = ()\n",
    "print(empty_tuple,type(empty_tuple))\n",
    "print(bool(empty_tuple))"
   ]
  },
  {
   "cell_type": "code",
   "execution_count": 46,
   "id": "632ff981",
   "metadata": {},
   "outputs": [
    {
     "name": "stdout",
     "output_type": "stream",
     "text": [
      "1\n"
     ]
    }
   ],
   "source": [
    "example_tuple = ('have',1,'good day')\n",
    "print(example_tuple[1])"
   ]
  },
  {
   "cell_type": "code",
   "execution_count": 47,
   "id": "cd2ed782",
   "metadata": {},
   "outputs": [
    {
     "name": "stdout",
     "output_type": "stream",
     "text": [
      "([1, 2, 3], 'Hi', ('have', 1, 'good day'))\n",
      "good day\n"
     ]
    }
   ],
   "source": [
    "nested_tuple = ([1,2,3],\"Hi\",example_tuple)\n",
    "print(nested_tuple)\n",
    "print(nested_tuple[2][2])"
   ]
  },
  {
   "cell_type": "code",
   "execution_count": 48,
   "id": "d86481cb",
   "metadata": {},
   "outputs": [
    {
     "ename": "TypeError",
     "evalue": "'tuple' object does not support item assignment",
     "output_type": "error",
     "traceback": [
      "\u001b[0;31m---------------------------------------------------------------------------\u001b[0m",
      "\u001b[0;31mTypeError\u001b[0m                                 Traceback (most recent call last)",
      "\u001b[0;32m/var/folders/t9/6jg89mh93bzgh5g6112hkxsm0000gn/T/ipykernel_4952/695253617.py\u001b[0m in \u001b[0;36m<module>\u001b[0;34m\u001b[0m\n\u001b[0;32m----> 1\u001b[0;31m \u001b[0mnested_tuple\u001b[0m\u001b[0;34m[\u001b[0m\u001b[0;36m1\u001b[0m\u001b[0;34m]\u001b[0m \u001b[0;34m=\u001b[0m \u001b[0;34m(\u001b[0m\u001b[0;34m)\u001b[0m\u001b[0;34m\u001b[0m\u001b[0;34m\u001b[0m\u001b[0m\n\u001b[0m",
      "\u001b[0;31mTypeError\u001b[0m: 'tuple' object does not support item assignment"
     ]
    }
   ],
   "source": [
    "nested_tuple[1] = ()"
   ]
  },
  {
   "cell_type": "code",
   "execution_count": 49,
   "id": "469b3595",
   "metadata": {},
   "outputs": [
    {
     "name": "stdout",
     "output_type": "stream",
     "text": [
      "(['one', 2, 3], 'Hi', ('have', 1, 'good day'))\n"
     ]
    }
   ],
   "source": [
    "nested_tuple[0][0]='one'\n",
    "print(nested_tuple)"
   ]
  },
  {
   "cell_type": "code",
   "execution_count": null,
   "id": "67dada4f",
   "metadata": {},
   "outputs": [],
   "source": []
  },
  {
   "cell_type": "code",
   "execution_count": 50,
   "id": "1dda88e3",
   "metadata": {},
   "outputs": [
    {
     "name": "stdout",
     "output_type": "stream",
     "text": [
      "solo <class 'str'>\n",
      "('solo',) <class 'tuple'>\n"
     ]
    }
   ],
   "source": [
    "singleton_tuple = ('solo')\n",
    "print(singleton_tuple,type(singleton_tuple))\n",
    "singleton_tuple = ('solo',)\n",
    "print(singleton_tuple,type(singleton_tuple))"
   ]
  },
  {
   "cell_type": "code",
   "execution_count": 51,
   "id": "7313bda1",
   "metadata": {},
   "outputs": [
    {
     "ename": "AttributeError",
     "evalue": "'tuple' object has no attribute 'append'",
     "output_type": "error",
     "traceback": [
      "\u001b[0;31m---------------------------------------------------------------------------\u001b[0m",
      "\u001b[0;31mAttributeError\u001b[0m                            Traceback (most recent call last)",
      "\u001b[0;32m/var/folders/t9/6jg89mh93bzgh5g6112hkxsm0000gn/T/ipykernel_4952/3651373270.py\u001b[0m in \u001b[0;36m<module>\u001b[0;34m\u001b[0m\n\u001b[1;32m      1\u001b[0m \u001b[0msingleton_tuple\u001b[0m \u001b[0;34m=\u001b[0m \u001b[0;34m(\u001b[0m\u001b[0;34m'solo'\u001b[0m\u001b[0;34m,\u001b[0m\u001b[0;34m)\u001b[0m\u001b[0;34m\u001b[0m\u001b[0;34m\u001b[0m\u001b[0m\n\u001b[0;32m----> 2\u001b[0;31m \u001b[0msingleton_tuple\u001b[0m\u001b[0;34m.\u001b[0m\u001b[0mappend\u001b[0m\u001b[0;34m(\u001b[0m\u001b[0;36m1\u001b[0m\u001b[0;34m)\u001b[0m\u001b[0;34m\u001b[0m\u001b[0;34m\u001b[0m\u001b[0m\n\u001b[0m",
      "\u001b[0;31mAttributeError\u001b[0m: 'tuple' object has no attribute 'append'"
     ]
    }
   ],
   "source": [
    "singleton_tuple = ('solo',)\n",
    "singleton_tuple.append(1)"
   ]
  },
  {
   "cell_type": "code",
   "execution_count": 52,
   "id": "ff596307",
   "metadata": {},
   "outputs": [
    {
     "name": "stdout",
     "output_type": "stream",
     "text": [
      "('solo', 1)\n"
     ]
    }
   ],
   "source": [
    "singleton_tuple = ('solo',)\n",
    "singleton_tuple +=(1,)\n",
    "#singleton_tuple =(1,)+singleton_tuple\n",
    "print(singleton_tuple)"
   ]
  },
  {
   "cell_type": "code",
   "execution_count": 53,
   "id": "965a3831",
   "metadata": {},
   "outputs": [
    {
     "name": "stdout",
     "output_type": "stream",
     "text": [
      "4\n",
      "2\n",
      "2\n"
     ]
    }
   ],
   "source": [
    "# two methods:\n",
    "grades=(99,97,98,98,100)\n",
    "print(grades.index(100))\n",
    "print(grades.index(98))\n",
    "print(grades.count(98))"
   ]
  },
  {
   "cell_type": "code",
   "execution_count": 54,
   "id": "4b82acd8",
   "metadata": {},
   "outputs": [
    {
     "name": "stdout",
     "output_type": "stream",
     "text": [
      "5\n",
      "[100, 97]\n"
     ]
    }
   ],
   "source": [
    "#build-in functions\n",
    "print(len(grades))\n",
    "print([max(grades),min(grades)])"
   ]
  },
  {
   "cell_type": "code",
   "execution_count": 55,
   "id": "ab7da903",
   "metadata": {},
   "outputs": [
    {
     "ename": "TypeError",
     "evalue": "'tuple' object doesn't support item deletion",
     "output_type": "error",
     "traceback": [
      "\u001b[0;31m---------------------------------------------------------------------------\u001b[0m",
      "\u001b[0;31mTypeError\u001b[0m                                 Traceback (most recent call last)",
      "\u001b[0;32m/var/folders/t9/6jg89mh93bzgh5g6112hkxsm0000gn/T/ipykernel_4952/2297991956.py\u001b[0m in \u001b[0;36m<module>\u001b[0;34m\u001b[0m\n\u001b[0;32m----> 1\u001b[0;31m \u001b[0;32mdel\u001b[0m \u001b[0mgrades\u001b[0m\u001b[0;34m[\u001b[0m\u001b[0;36m4\u001b[0m\u001b[0;34m]\u001b[0m\u001b[0;34m\u001b[0m\u001b[0;34m\u001b[0m\u001b[0m\n\u001b[0m",
      "\u001b[0;31mTypeError\u001b[0m: 'tuple' object doesn't support item deletion"
     ]
    }
   ],
   "source": [
    "del grades[4]"
   ]
  },
  {
   "cell_type": "code",
   "execution_count": 56,
   "id": "2cf2ce70",
   "metadata": {},
   "outputs": [
    {
     "ename": "NameError",
     "evalue": "name 'grades' is not defined",
     "output_type": "error",
     "traceback": [
      "\u001b[0;31m---------------------------------------------------------------------------\u001b[0m",
      "\u001b[0;31mNameError\u001b[0m                                 Traceback (most recent call last)",
      "\u001b[0;32m/var/folders/t9/6jg89mh93bzgh5g6112hkxsm0000gn/T/ipykernel_4952/127159618.py\u001b[0m in \u001b[0;36m<module>\u001b[0;34m\u001b[0m\n\u001b[1;32m      1\u001b[0m \u001b[0;32mdel\u001b[0m \u001b[0mgrades\u001b[0m\u001b[0;34m\u001b[0m\u001b[0;34m\u001b[0m\u001b[0m\n\u001b[0;32m----> 2\u001b[0;31m \u001b[0mprint\u001b[0m\u001b[0;34m(\u001b[0m\u001b[0mgrades\u001b[0m\u001b[0;34m)\u001b[0m\u001b[0;34m\u001b[0m\u001b[0;34m\u001b[0m\u001b[0m\n\u001b[0m",
      "\u001b[0;31mNameError\u001b[0m: name 'grades' is not defined"
     ]
    }
   ],
   "source": [
    "del grades\n",
    "print(grades)"
   ]
  },
  {
   "cell_type": "code",
   "execution_count": 57,
   "id": "cd39d00c",
   "metadata": {},
   "outputs": [
    {
     "name": "stdout",
     "output_type": "stream",
     "text": [
      "((), <class 'list'>, <class 'tuple'>)\n"
     ]
    }
   ],
   "source": [
    "lst = []\n",
    "x=(tuple(lst), type(lst),type(tuple(lst)))\n",
    "print(x)"
   ]
  },
  {
   "cell_type": "code",
   "execution_count": 58,
   "id": "371b5298",
   "metadata": {},
   "outputs": [
    {
     "name": "stdout",
     "output_type": "stream",
     "text": [
      "False\n",
      "True\n"
     ]
    }
   ],
   "source": [
    "print([] in x)\n",
    "print(type(lst) in x)"
   ]
  },
  {
   "cell_type": "markdown",
   "id": "bc479c89",
   "metadata": {},
   "source": [
    "## 3 Set<a class=\"anchor\" id=\"3\"></a>\n",
    "\n",
    "In Python, set is an **unordered** collection of data type that is **iterable, mutable and has no duplicate elements**. The order of elements in a set is undefined though it may consist of various elements.\n",
    "Creating Sets\n",
    "\n",
    "Set can be recognized by their **curly braces** which hold elements and are separated by a comma."
   ]
  },
  {
   "cell_type": "code",
   "execution_count": 59,
   "id": "7e053894",
   "metadata": {},
   "outputs": [
    {
     "name": "stdout",
     "output_type": "stream",
     "text": [
      "{1, 2, 3}\n",
      "{1, 2, 3}\n",
      "{'2', '3', '1'}\n"
     ]
    }
   ],
   "source": [
    "#Two ways to reat a set \n",
    "#by the built-in set() function with an iterable object\n",
    "set_1 = set([1,2,3])\n",
    "print(set_1)\n",
    "set_2 = set((1,2,3))\n",
    "print(set_2)\n",
    "set_3 = set('123')\n",
    "print(set_3)"
   ]
  },
  {
   "cell_type": "code",
   "execution_count": 60,
   "id": "09dcb744",
   "metadata": {},
   "outputs": [
    {
     "name": "stdout",
     "output_type": "stream",
     "text": [
      "{1, 12, 22}\n",
      "{'22', 1, 22, '1'}\n"
     ]
    }
   ],
   "source": [
    "#by the built-in set() function with an iterable object\n",
    "set_1 = set([12,1,1,22])\n",
    "print(set_1)\n",
    "set_2 = set((1,'1',22,'22'))\n",
    "print(set_2)"
   ]
  },
  {
   "cell_type": "code",
   "execution_count": 61,
   "id": "f67267d4",
   "metadata": {},
   "outputs": [
    {
     "name": "stdout",
     "output_type": "stream",
     "text": [
      "set() <class 'set'>\n"
     ]
    }
   ],
   "source": [
    "empty_set = set()\n",
    "print(empty_set, type(empty_set))"
   ]
  },
  {
   "cell_type": "code",
   "execution_count": 62,
   "id": "58554b5e",
   "metadata": {},
   "outputs": [
    {
     "name": "stdout",
     "output_type": "stream",
     "text": [
      "{} <class 'dict'>\n"
     ]
    }
   ],
   "source": [
    "empty_set = {}\n",
    "print(empty_set, type(empty_set))"
   ]
  },
  {
   "cell_type": "code",
   "execution_count": 63,
   "id": "bdfc7527",
   "metadata": {},
   "outputs": [
    {
     "ename": "TypeError",
     "evalue": "'set' object is not subscriptable",
     "output_type": "error",
     "traceback": [
      "\u001b[0;31m---------------------------------------------------------------------------\u001b[0m",
      "\u001b[0;31mTypeError\u001b[0m                                 Traceback (most recent call last)",
      "\u001b[0;32m/var/folders/t9/6jg89mh93bzgh5g6112hkxsm0000gn/T/ipykernel_4952/3305946359.py\u001b[0m in \u001b[0;36m<module>\u001b[0;34m\u001b[0m\n\u001b[0;32m----> 1\u001b[0;31m \u001b[0mset_1\u001b[0m\u001b[0;34m[\u001b[0m\u001b[0;36m0\u001b[0m\u001b[0;34m]\u001b[0m\u001b[0;34m\u001b[0m\u001b[0;34m\u001b[0m\u001b[0m\n\u001b[0m",
      "\u001b[0;31mTypeError\u001b[0m: 'set' object is not subscriptable"
     ]
    }
   ],
   "source": [
    "set_1[0]"
   ]
  },
  {
   "cell_type": "code",
   "execution_count": 64,
   "id": "7e428742",
   "metadata": {},
   "outputs": [
    {
     "name": "stdout",
     "output_type": "stream",
     "text": [
      "{False, True}\n",
      "[True, False]\n"
     ]
    }
   ],
   "source": [
    "print({1 in set_1, 0 in set_1})\n",
    "print([1 in set_1, 0 in set_1])"
   ]
  },
  {
   "cell_type": "code",
   "execution_count": null,
   "id": "6e6bb480",
   "metadata": {},
   "outputs": [],
   "source": [
    "\n"
   ]
  },
  {
   "cell_type": "code",
   "execution_count": 77,
   "id": "cfc1e288",
   "metadata": {},
   "outputs": [],
   "source": [
    "A = {'cat','fish','apple','chair'}\n",
    "B = {'cat','dog','fish'}"
   ]
  },
  {
   "cell_type": "code",
   "execution_count": 78,
   "id": "c557e7f7",
   "metadata": {},
   "outputs": [],
   "source": [
    "A |=B"
   ]
  },
  {
   "cell_type": "code",
   "execution_count": 79,
   "id": "81fff213",
   "metadata": {},
   "outputs": [
    {
     "data": {
      "text/plain": [
       "{'apple', 'cat', 'chair', 'dog', 'fish'}"
      ]
     },
     "execution_count": 79,
     "metadata": {},
     "output_type": "execute_result"
    }
   ],
   "source": [
    "A"
   ]
  },
  {
   "cell_type": "code",
   "execution_count": 66,
   "id": "e0e34d16",
   "metadata": {},
   "outputs": [
    {
     "name": "stdout",
     "output_type": "stream",
     "text": [
      "{'dog', 'cat', 'apple', 'chair', 'fish'}\n",
      "{'dog', 'cat', 'apple', 'chair', 'fish'}\n"
     ]
    }
   ],
   "source": [
    "print(A.union(B))\n",
    "print(A|B)"
   ]
  },
  {
   "cell_type": "code",
   "execution_count": 67,
   "id": "b45e1308",
   "metadata": {},
   "outputs": [
    {
     "name": "stdout",
     "output_type": "stream",
     "text": [
      "{'cat', 'fish'}\n",
      "{'cat', 'fish'}\n"
     ]
    }
   ],
   "source": [
    "print(A.intersection(B))\n",
    "print(A&B)"
   ]
  },
  {
   "cell_type": "code",
   "execution_count": 68,
   "id": "2489bc2d",
   "metadata": {},
   "outputs": [
    {
     "name": "stdout",
     "output_type": "stream",
     "text": [
      "{'apple', 'chair'}\n",
      "{'apple', 'chair'}\n"
     ]
    }
   ],
   "source": [
    "print(A.difference(B))\n",
    "print(A-B)"
   ]
  },
  {
   "cell_type": "code",
   "execution_count": 69,
   "id": "ca1c03fd",
   "metadata": {},
   "outputs": [
    {
     "name": "stdout",
     "output_type": "stream",
     "text": [
      "{'apple', 'chair', 'fish', 'cat', 'bird'}\n"
     ]
    }
   ],
   "source": [
    "A.add('bird')\n",
    "print(A)"
   ]
  },
  {
   "cell_type": "code",
   "execution_count": 70,
   "id": "e78f38ca",
   "metadata": {},
   "outputs": [
    {
     "name": "stdout",
     "output_type": "stream",
     "text": [
      "{'apple', 'chair', 'fish', 'cat'}\n"
     ]
    }
   ],
   "source": [
    "A.discard('bird')\n",
    "print(A)"
   ]
  },
  {
   "cell_type": "code",
   "execution_count": 71,
   "id": "5712ebcc",
   "metadata": {},
   "outputs": [
    {
     "name": "stdout",
     "output_type": "stream",
     "text": [
      "{'apple', 'chair', 'fish', 'cat'}\n"
     ]
    }
   ],
   "source": [
    "A.discard('bird')\n",
    "print(A)"
   ]
  },
  {
   "cell_type": "code",
   "execution_count": 72,
   "id": "bef9dac1",
   "metadata": {},
   "outputs": [
    {
     "ename": "KeyError",
     "evalue": "'bird'",
     "output_type": "error",
     "traceback": [
      "\u001b[0;31m---------------------------------------------------------------------------\u001b[0m",
      "\u001b[0;31mKeyError\u001b[0m                                  Traceback (most recent call last)",
      "\u001b[0;32m/var/folders/t9/6jg89mh93bzgh5g6112hkxsm0000gn/T/ipykernel_4952/2190787270.py\u001b[0m in \u001b[0;36m<module>\u001b[0;34m\u001b[0m\n\u001b[0;32m----> 1\u001b[0;31m \u001b[0mA\u001b[0m\u001b[0;34m.\u001b[0m\u001b[0mremove\u001b[0m\u001b[0;34m(\u001b[0m\u001b[0;34m'bird'\u001b[0m\u001b[0;34m)\u001b[0m\u001b[0;34m\u001b[0m\u001b[0;34m\u001b[0m\u001b[0m\n\u001b[0m\u001b[1;32m      2\u001b[0m \u001b[0mprint\u001b[0m\u001b[0;34m(\u001b[0m\u001b[0mA\u001b[0m\u001b[0;34m)\u001b[0m\u001b[0;34m\u001b[0m\u001b[0;34m\u001b[0m\u001b[0m\n",
      "\u001b[0;31mKeyError\u001b[0m: 'bird'"
     ]
    }
   ],
   "source": [
    "A.remove('bird')\n",
    "print(A)"
   ]
  },
  {
   "cell_type": "code",
   "execution_count": 73,
   "id": "03d08cbc",
   "metadata": {},
   "outputs": [
    {
     "name": "stdout",
     "output_type": "stream",
     "text": [
      "{'apple', 'chair', 'fish'}\n"
     ]
    }
   ],
   "source": [
    "A.discard('cat')\n",
    "print(A)\n"
   ]
  },
  {
   "cell_type": "code",
   "execution_count": 74,
   "id": "7c6d901a",
   "metadata": {},
   "outputs": [
    {
     "name": "stdout",
     "output_type": "stream",
     "text": [
      "set()\n",
      "False\n"
     ]
    }
   ],
   "source": [
    "A.clear()\n",
    "print(A)\n",
    "print(A == None)"
   ]
  },
  {
   "cell_type": "code",
   "execution_count": 76,
   "id": "e21026cd",
   "metadata": {},
   "outputs": [
    {
     "ename": "NameError",
     "evalue": "name 'A' is not defined",
     "output_type": "error",
     "traceback": [
      "\u001b[0;31m---------------------------------------------------------------------------\u001b[0m",
      "\u001b[0;31mNameError\u001b[0m                                 Traceback (most recent call last)",
      "\u001b[0;32m/var/folders/t9/6jg89mh93bzgh5g6112hkxsm0000gn/T/ipykernel_4952/1925795270.py\u001b[0m in \u001b[0;36m<module>\u001b[0;34m\u001b[0m\n\u001b[0;32m----> 1\u001b[0;31m \u001b[0;32mdel\u001b[0m \u001b[0mA\u001b[0m\u001b[0;34m\u001b[0m\u001b[0;34m\u001b[0m\u001b[0m\n\u001b[0m\u001b[1;32m      2\u001b[0m \u001b[0mprint\u001b[0m\u001b[0;34m(\u001b[0m\u001b[0mA\u001b[0m \u001b[0;34m==\u001b[0m \u001b[0;32mNone\u001b[0m\u001b[0;34m)\u001b[0m\u001b[0;34m\u001b[0m\u001b[0;34m\u001b[0m\u001b[0m\n",
      "\u001b[0;31mNameError\u001b[0m: name 'A' is not defined"
     ]
    }
   ],
   "source": [
    "del A\n",
    "print(A == None)"
   ]
  },
  {
   "cell_type": "markdown",
   "id": "5d7dfe8e",
   "metadata": {},
   "source": [
    "## 4 Dict <a class=\"anchor\" id=\"4\"></a>\n",
    "\n",
    "Dictionary in Python is an **unordered** collection of data values, used to store data values like a **map**, which unlike other Data Types that hold only single value as an element, Dictionary holds **key:value pair**.\n",
    "\n",
    "Dictionary can be recognized by their **curly braces** which hold Key:value pairs separated by colon : . \n",
    "\n"
   ]
  },
  {
   "cell_type": "markdown",
   "id": "0d2e5a8a",
   "metadata": {},
   "source": [
    "In Python, a Dictionary can be created by placing a sequence of elements within curly {} braces, separated by ‘comma’. Values in a dictionary can be of any datatype and can be duplicated, whereas keys can’t be repeated and must be immutable. Dictionary can also be created by the . \n",
    "\n",
    "Note – Dictionary keys are case sensitive, same name but different cases of Key will be treated distinctly."
   ]
  },
  {
   "cell_type": "code",
   "execution_count": 1,
   "id": "b210da7d",
   "metadata": {},
   "outputs": [
    {
     "name": "stdout",
     "output_type": "stream",
     "text": [
      "<class 'dict'>\n"
     ]
    },
    {
     "data": {
      "text/plain": [
       "True"
      ]
     },
     "execution_count": 1,
     "metadata": {},
     "output_type": "execute_result"
    }
   ],
   "source": [
    "#create an empty dictionary by just placing it to curly braces{}.\n",
    "empty_dict = {}\n",
    "print(type(empty_dict))\n",
    "empty_dict == dict()"
   ]
  },
  {
   "cell_type": "code",
   "execution_count": 2,
   "id": "9a0c0b37",
   "metadata": {},
   "outputs": [
    {
     "name": "stdout",
     "output_type": "stream",
     "text": [
      "{'key1': 'value_1', 'key2': 'value_2'}\n"
     ]
    }
   ],
   "source": [
    "#create a dictionary by built-in function dict()\n",
    "dict_1 = dict()\n",
    "dict_1['key1'] = 'value_1'\n",
    "dict_1['key2'] = 'value_2'\n",
    "print(dict_1)"
   ]
  },
  {
   "cell_type": "code",
   "execution_count": 3,
   "id": "f995786d",
   "metadata": {},
   "outputs": [
    {
     "name": "stdout",
     "output_type": "stream",
     "text": [
      "{'alice': 1.6, 'joe': 1.76, 'lily': 1.7, 'bob': 2.1}\n"
     ]
    }
   ],
   "source": [
    "dict_2 = {'alice':1.60,'joe':1.76,'lily':1.7,'bob':2.1}\n",
    "print(dict_2)"
   ]
  },
  {
   "cell_type": "code",
   "execution_count": 4,
   "id": "715ac7d4",
   "metadata": {},
   "outputs": [
    {
     "name": "stdout",
     "output_type": "stream",
     "text": [
      "{'alice': 1.6, 'joe': 1.76, 'lily': 1.7, 'bob': 1.6}\n"
     ]
    }
   ],
   "source": [
    "dict_2['bob']=1.6\n",
    "print(dict_2)"
   ]
  },
  {
   "cell_type": "code",
   "execution_count": 5,
   "id": "d1b30625",
   "metadata": {},
   "outputs": [
    {
     "data": {
      "text/plain": [
       "dict_keys(['alice', 'joe', 'lily', 'bob'])"
      ]
     },
     "execution_count": 5,
     "metadata": {},
     "output_type": "execute_result"
    }
   ],
   "source": [
    "dict_2.keys()"
   ]
  },
  {
   "cell_type": "code",
   "execution_count": 6,
   "id": "b48c421f",
   "metadata": {},
   "outputs": [
    {
     "data": {
      "text/plain": [
       "dict_values([1.6, 1.76, 1.7, 1.6])"
      ]
     },
     "execution_count": 6,
     "metadata": {},
     "output_type": "execute_result"
    }
   ],
   "source": [
    "dict_2.values()"
   ]
  },
  {
   "cell_type": "code",
   "execution_count": 7,
   "id": "4b7e999f",
   "metadata": {},
   "outputs": [
    {
     "data": {
      "text/plain": [
       "dict_items([('alice', 1.6), ('joe', 1.76), ('lily', 1.7), ('bob', 1.6)])"
      ]
     },
     "execution_count": 7,
     "metadata": {},
     "output_type": "execute_result"
    }
   ],
   "source": [
    "dict_2.items()"
   ]
  },
  {
   "cell_type": "code",
   "execution_count": 8,
   "id": "04c02379",
   "metadata": {},
   "outputs": [
    {
     "name": "stdout",
     "output_type": "stream",
     "text": [
      "{'height': [1.6, 1.76, 1.7, 2.1], 'name': ['alice', 'joe', 'lily', 'bob'], 'sex': ['F', 'M', 'F', 'M']}\n"
     ]
    }
   ],
   "source": [
    "dict_3 = {'height':[1.60,1.76,1.7,2.1],\\\n",
    "          'name':['alice', 'joe', 'lily', 'bob'],\\\n",
    "         'sex':['F','M','F','M']}\n",
    "print(dict_3)"
   ]
  },
  {
   "cell_type": "code",
   "execution_count": 9,
   "id": "e4d53589",
   "metadata": {},
   "outputs": [
    {
     "name": "stdout",
     "output_type": "stream",
     "text": [
      "['alice', 'joe', 'lily', 'bob']\n"
     ]
    }
   ],
   "source": [
    "print(dict_3['name'])"
   ]
  },
  {
   "cell_type": "code",
   "execution_count": 10,
   "id": "3c3d2c18",
   "metadata": {},
   "outputs": [
    {
     "name": "stdout",
     "output_type": "stream",
     "text": [
      "['alice', 'joe', 'lily', 'bob', 'zoe']\n"
     ]
    }
   ],
   "source": [
    "dict_3['name'].append('zoe')\n",
    "print(dict_3['name'])"
   ]
  },
  {
   "cell_type": "code",
   "execution_count": 11,
   "id": "bfd2092b",
   "metadata": {},
   "outputs": [
    {
     "name": "stdout",
     "output_type": "stream",
     "text": [
      "['alice', 'joe', 'lily', 'bob', 'zoe', 'zoe']\n"
     ]
    }
   ],
   "source": [
    "dict_3.get('name').append('zoe')\n",
    "print(dict_3['name'])"
   ]
  },
  {
   "cell_type": "code",
   "execution_count": 12,
   "id": "7ce8cac8",
   "metadata": {},
   "outputs": [
    {
     "data": {
      "text/plain": [
       "False"
      ]
     },
     "execution_count": 12,
     "metadata": {},
     "output_type": "execute_result"
    }
   ],
   "source": [
    "'zoe' in dict_2"
   ]
  },
  {
   "cell_type": "code",
   "execution_count": 13,
   "id": "bab65f9b",
   "metadata": {},
   "outputs": [
    {
     "data": {
      "text/plain": [
       "True"
      ]
     },
     "execution_count": 13,
     "metadata": {},
     "output_type": "execute_result"
    }
   ],
   "source": [
    "'joe' in dict_2"
   ]
  },
  {
   "cell_type": "code",
   "execution_count": 15,
   "id": "5a0a084f",
   "metadata": {},
   "outputs": [
    {
     "data": {
      "text/plain": [
       "['F', 'M', 'F', 'M']"
      ]
     },
     "execution_count": 15,
     "metadata": {},
     "output_type": "execute_result"
    }
   ],
   "source": [
    "dict_3.pop('sex')"
   ]
  },
  {
   "cell_type": "code",
   "execution_count": 16,
   "id": "5185dacd",
   "metadata": {},
   "outputs": [
    {
     "data": {
      "text/plain": [
       "dict_items([('height', [1.6, 1.76, 1.7, 2.1]), ('name', ['alice', 'joe', 'lily', 'bob', 'zoe', 'zoe'])])"
      ]
     },
     "execution_count": 16,
     "metadata": {},
     "output_type": "execute_result"
    }
   ],
   "source": [
    "dict_3.items()"
   ]
  },
  {
   "cell_type": "code",
   "execution_count": 17,
   "id": "84ba0df5",
   "metadata": {},
   "outputs": [
    {
     "name": "stdout",
     "output_type": "stream",
     "text": [
      "['alice', 'joe', 'lily', 'bob', 'zoe', 'zoe']\n",
      "{'height': [1.6, 1.76, 1.7, 2.1]}\n"
     ]
    }
   ],
   "source": [
    "print(dict_3.pop('name'))\n",
    "print(dict_3)"
   ]
  },
  {
   "cell_type": "code",
   "execution_count": 18,
   "id": "0328467d",
   "metadata": {},
   "outputs": [
    {
     "name": "stdout",
     "output_type": "stream",
     "text": [
      "{}\n"
     ]
    }
   ],
   "source": [
    "del dict_3['height']\n",
    "print(dict_3)"
   ]
  },
  {
   "cell_type": "code",
   "execution_count": 19,
   "id": "725347fb",
   "metadata": {},
   "outputs": [
    {
     "name": "stdout",
     "output_type": "stream",
     "text": [
      "\n",
      " {} \n",
      " False\n"
     ]
    }
   ],
   "source": [
    "dict_3.clear()\n",
    "print('\\n',dict_3,'\\n',dict_3 == None)"
   ]
  },
  {
   "cell_type": "code",
   "execution_count": 20,
   "id": "9940f275",
   "metadata": {},
   "outputs": [
    {
     "name": "stdout",
     "output_type": "stream",
     "text": [
      "{'alice': 1.6, 'joe': 1.76, 'lily': 1.7, 'bob': 2.1}\n"
     ]
    }
   ],
   "source": [
    "name = ['alice', 'joe', 'lily', 'bob']\n",
    "height = [1.6, 1.76, 1.7, 2.1]\n",
    "info = dict(zip(name,height))\n",
    "print(info)"
   ]
  },
  {
   "cell_type": "code",
   "execution_count": 21,
   "id": "d63e0d04",
   "metadata": {},
   "outputs": [
    {
     "name": "stdout",
     "output_type": "stream",
     "text": [
      "<zip object at 0x7fca40955100> <class 'zip'>\n",
      "[('alice', 1.6), ('joe', 1.76), ('lily', 1.7), ('bob', 2.1)]\n"
     ]
    }
   ],
   "source": [
    "x = zip(name,height)\n",
    "print(x, type(x))\n",
    "print(list(x))"
   ]
  },
  {
   "cell_type": "code",
   "execution_count": 22,
   "id": "74dc4152",
   "metadata": {},
   "outputs": [
    {
     "name": "stdout",
     "output_type": "stream",
     "text": [
      "[('alice', 1.6), ('joe', 1.76), ('lily', 1.7), ('bob', 2.1)]\n",
      "[(1.6, 'alice'), (1.76, 'joe'), (1.7, 'lily'), (2.1, 'bob')]\n"
     ]
    }
   ],
   "source": [
    "name = ['alice', 'joe', 'lily', 'bob','zoe']\n",
    "height = [1.6, 1.76, 1.7, 2.1]\n",
    "x = zip(name,height)\n",
    "print(list(x))\n",
    "y = zip(height,name)\n",
    "print(list(y))"
   ]
  },
  {
   "cell_type": "markdown",
   "id": "31e098ba",
   "metadata": {},
   "source": [
    "## 5 Wrap-up <a class=\"anchor\" id=\"5\"></a>\n",
    "--------------------------------\n",
    "\n",
    "| Data type | type | example | mutable/immutable | iterable ? |\n",
    "| --------- | ---- | -------------- | --------- | --------- |\n",
    "| str | sequence type | 'abc' or \"abc\" | mutable | YES |\n",
    "| int | numerical type | 1 | immutable | NO |\n",
    "| float | numerical type | 1 | immutable |  NO |\n",
    "| complex | numerical type | 1+j or 1+J | immutable |  NO |\n",
    "| bool | boolean type | True or False | immutable |  NO |\n",
    "| list | sequence type | \\[1,2,3\\] | mutable |  YES |\n",
    "| tuple | sequence type | (1,2,3) | immutable |  YES |\n",
    "| set | set type | \\{1,2,3\\} | mutable |  YES |\n",
    "| dict | mapping type | \\{'key1':100,'key2':200\\} | mutable |  YES |\n",
    "\n",
    "---------------------------\n",
    "\n",
    "\n",
    "- Sequence is the collection of data : str, list, tuple. \n",
    "\n",
    "- Position matters in sequence: index\n",
    "    - str and list are  mutable, while tuple is immutable\n",
    "    - elements in list and tuple could have different types, while all elements in str is character\n",
    "\n",
    "- set is NOT a sequence: no index, no repeated elements\n",
    "    - set is mutable and iterable\n",
    "\n",
    "- dict is NOT a sequence.\n",
    "    - dict.keys is a set, thus no repeated elements. \n",
    "    - key can be viewed as an index with a mutable name\n",
    "\n"
   ]
  }
 ],
 "metadata": {
  "kernelspec": {
   "display_name": "Python 3 (ipykernel)",
   "language": "python",
   "name": "python3"
  },
  "language_info": {
   "codemirror_mode": {
    "name": "ipython",
    "version": 3
   },
   "file_extension": ".py",
   "mimetype": "text/x-python",
   "name": "python",
   "nbconvert_exporter": "python",
   "pygments_lexer": "ipython3",
   "version": "3.9.7"
  }
 },
 "nbformat": 4,
 "nbformat_minor": 5
}
