{
 "cells": [
  {
   "cell_type": "markdown",
   "id": "f432b2ad",
   "metadata": {},
   "source": [
    "# Lecture 2-1: Variable\n",
    "\n",
    "A variable is a fundamental concept in any programming language. It is a reserved memory location that stores and manipulates data.\n",
    "\n",
    "## Table of contents\n",
    "\n",
    "* [1 Basic concept](#1)\n",
    "    * [1.1 Rules of naming variales](#1.1)\n",
    "    * [1.2 Different types of variables](#1.2)\n",
    "\n",
    "* [2 String data](#2)\n",
    "    * [2.1 Create a string variable](#2.1)\n",
    "    * [2.2 String operation: concatenation](#2.2)\n",
    "    * [2.3 String operation: repetition](#2.3)\n",
    "    * [2.4 String operation: indexing and slicing](#2.4)\n",
    "    * [2.5 Special characters and raw strings](#2.5)\n",
    "    * [2.6 Commonly used functions and methods for character strings](#2.6)\n",
    "    * [2.7 Comments](#2.7)\n",
    "\n",
    "* [3 Numeric data](#3)\n",
    "    * [3.1 Types of numeric data](#3.1)\n",
    "        * [3.1.1 integer](#3.1.1)\n",
    "        * [3.1.2 floating point number](#3.1.2)\n",
    "        * [3.1.3 complex number](#3.1.3)\n",
    "        * [3.1.4 Boolean](#3.1.4)\n",
    "        * [3.1.5 Nonetype](#3.1.5)\n",
    "    * [3.2 Operators](#3.2)\n",
    "        * [3.2.1 Arithmetic operators](#3.2.1)\n",
    "        * [3.2.2 Assignment operators](#3.2.2)\n",
    "        * [3.2.3 Comparison operators](#3.2.3)\n",
    "        * [3.2.4 Logical operators](#3.2.4)\n",
    "    * [3.3 Operator precedence](#3.3)\n",
    "    * [3.4 Functions for numeric data](#3.4)\n",
    "    * [3.5 Placeholder](#3.5)\n",
    "    * [3.6 Math module](#3.6)\n",
    "\n",
    "\n"
   ]
  },
  {
   "cell_type": "markdown",
   "id": "0e1dac3a",
   "metadata": {},
   "source": [
    "## 1 Basic concept <a class=\"anchor\" id=\"1\"></a>\n",
    "### 1.1 Rules of naming variales <a class=\"anchor\" id=\"1.1\"></a>"
   ]
  },
  {
   "cell_type": "code",
   "execution_count": 1,
   "id": "82b2b55b",
   "metadata": {},
   "outputs": [],
   "source": [
    "my_pi_1 = 3.14\n",
    "my_pi_2 = 3.14159"
   ]
  },
  {
   "cell_type": "markdown",
   "id": "07308237",
   "metadata": {},
   "source": [
    "Case sensitive "
   ]
  },
  {
   "cell_type": "code",
   "execution_count": 2,
   "id": "c888bcdf",
   "metadata": {},
   "outputs": [
    {
     "name": "stdout",
     "output_type": "stream",
     "text": [
      "3.14\n"
     ]
    }
   ],
   "source": [
    "print(my_pi_1)"
   ]
  },
  {
   "cell_type": "code",
   "execution_count": 3,
   "id": "19b344aa",
   "metadata": {},
   "outputs": [
    {
     "ename": "NameError",
     "evalue": "name 'my_Pi_1' is not defined",
     "output_type": "error",
     "traceback": [
      "\u001b[0;31m---------------------------------------------------------------------------\u001b[0m",
      "\u001b[0;31mNameError\u001b[0m                                 Traceback (most recent call last)",
      "\u001b[0;32m/var/folders/t9/6jg89mh93bzgh5g6112hkxsm0000gn/T/ipykernel_22254/2408487834.py\u001b[0m in \u001b[0;36m<module>\u001b[0;34m\u001b[0m\n\u001b[0;32m----> 1\u001b[0;31m \u001b[0mprint\u001b[0m\u001b[0;34m(\u001b[0m\u001b[0mmy_Pi_1\u001b[0m\u001b[0;34m)\u001b[0m\u001b[0;34m\u001b[0m\u001b[0;34m\u001b[0m\u001b[0m\n\u001b[0m",
      "\u001b[0;31mNameError\u001b[0m: name 'my_Pi_1' is not defined"
     ]
    }
   ],
   "source": [
    "print(my_Pi_1)"
   ]
  },
  {
   "cell_type": "markdown",
   "id": "987390a6",
   "metadata": {},
   "source": [
    "The following are not allowed."
   ]
  },
  {
   "cell_type": "code",
   "execution_count": 4,
   "id": "e5c4e79d",
   "metadata": {},
   "outputs": [
    {
     "ename": "SyntaxError",
     "evalue": "invalid syntax (1781099732.py, line 1)",
     "output_type": "error",
     "traceback": [
      "\u001b[0;36m  File \u001b[0;32m\"/var/folders/t9/6jg89mh93bzgh5g6112hkxsm0000gn/T/ipykernel_22254/1781099732.py\"\u001b[0;36m, line \u001b[0;32m1\u001b[0m\n\u001b[0;31m    my pi = 3.14\u001b[0m\n\u001b[0m       ^\u001b[0m\n\u001b[0;31mSyntaxError\u001b[0m\u001b[0;31m:\u001b[0m invalid syntax\n"
     ]
    }
   ],
   "source": [
    "my pi = 3.14"
   ]
  },
  {
   "cell_type": "code",
   "execution_count": 5,
   "id": "fd2ef155",
   "metadata": {},
   "outputs": [
    {
     "ename": "SyntaxError",
     "evalue": "invalid decimal literal (3291718524.py, line 1)",
     "output_type": "error",
     "traceback": [
      "\u001b[0;36m  File \u001b[0;32m\"/var/folders/t9/6jg89mh93bzgh5g6112hkxsm0000gn/T/ipykernel_22254/3291718524.py\"\u001b[0;36m, line \u001b[0;32m1\u001b[0m\n\u001b[0;31m    1_my_pi = 3.14\u001b[0m\n\u001b[0m     ^\u001b[0m\n\u001b[0;31mSyntaxError\u001b[0m\u001b[0;31m:\u001b[0m invalid decimal literal\n"
     ]
    }
   ],
   "source": [
    "1_my_pi = 3.14"
   ]
  },
  {
   "cell_type": "markdown",
   "id": "037a9f17",
   "metadata": {},
   "source": [
    "### 1.2 Different types of variables <a class=\"anchor\" id=\"1.2\"></a>\n",
    "\n",
    "The data type for a variable is the type of data it holds. \n",
    "\n",
    "To check the data type of x, use the type() function:"
   ]
  },
  {
   "cell_type": "code",
   "execution_count": 6,
   "id": "abd1e132",
   "metadata": {},
   "outputs": [
    {
     "name": "stdout",
     "output_type": "stream",
     "text": [
      "<class 'int'>\n",
      "<class 'float'>\n",
      "<class 'str'>\n",
      "<class 'bool'>\n",
      "<class 'list'>\n"
     ]
    }
   ],
   "source": [
    "x = 100\n",
    "y = 100.0\n",
    "z = '100'\n",
    "w = (100.0 == 100)\n",
    "v = [10,10]\n",
    "print(type(x))\n",
    "print(type(y))\n",
    "print(type(z))\n",
    "print(type(w))\n",
    "print(type(v))"
   ]
  },
  {
   "cell_type": "markdown",
   "id": "bc479c89",
   "metadata": {},
   "source": [
    "## 2 String data<a class=\"anchor\" id=\"2\"></a>\n",
    "### 2.1 Create a string variable<a class=\"anchor\" id=\"2.1\"></a>"
   ]
  },
  {
   "cell_type": "code",
   "execution_count": 7,
   "id": "7e053894",
   "metadata": {},
   "outputs": [
    {
     "name": "stdout",
     "output_type": "stream",
     "text": [
      "Jingjie Zhang\n"
     ]
    },
    {
     "data": {
      "text/plain": [
       "str"
      ]
     },
     "execution_count": 7,
     "metadata": {},
     "output_type": "execute_result"
    }
   ],
   "source": [
    "myname = 'Jingjie Zhang'\n",
    "print(myname)\n",
    "type(myname)"
   ]
  },
  {
   "cell_type": "code",
   "execution_count": 8,
   "id": "6e6bb480",
   "metadata": {},
   "outputs": [
    {
     "name": "stdout",
     "output_type": "stream",
     "text": [
      "JINGJIE ZHANG\n",
      "jingjie zhang\n"
     ]
    }
   ],
   "source": [
    "print(myname.upper())\n",
    "print(myname.lower())"
   ]
  },
  {
   "cell_type": "code",
   "execution_count": 9,
   "id": "e0e34d16",
   "metadata": {},
   "outputs": [
    {
     "name": "stdout",
     "output_type": "stream",
     "text": [
      "This Is The Title\n",
      "this is the title\n"
     ]
    }
   ],
   "source": [
    "v1 = \"this is the title\"\n",
    "\n",
    "print(v1.title())\n",
    "print(v1)"
   ]
  },
  {
   "cell_type": "code",
   "execution_count": 10,
   "id": "2489bc2d",
   "metadata": {},
   "outputs": [
    {
     "name": "stdout",
     "output_type": "stream",
     "text": [
      "This Is The Title\n"
     ]
    }
   ],
   "source": [
    "v1 = v1.title()\n",
    "print(v1)"
   ]
  },
  {
   "cell_type": "markdown",
   "id": "5d7dfe8e",
   "metadata": {},
   "source": [
    "### 2.2 String operation: concatenation<a class=\"anchor\" id=\"2.2\"></a>"
   ]
  },
  {
   "cell_type": "code",
   "execution_count": 11,
   "id": "669a6321",
   "metadata": {},
   "outputs": [
    {
     "name": "stdout",
     "output_type": "stream",
     "text": [
      "FinTech\n"
     ]
    }
   ],
   "source": [
    "fin = 'Fin'\n",
    "tech = 'Tech'\n",
    "fintech = fin+tech\n",
    "print(fintech)"
   ]
  },
  {
   "cell_type": "code",
   "execution_count": 12,
   "id": "bfd2092b",
   "metadata": {},
   "outputs": [
    {
     "name": "stdout",
     "output_type": "stream",
     "text": [
      "1+2=3\n"
     ]
    },
    {
     "data": {
      "text/plain": [
       "str"
      ]
     },
     "execution_count": 12,
     "metadata": {},
     "output_type": "execute_result"
    }
   ],
   "source": [
    "n_1 = '1'\n",
    "n_2 = '2'\n",
    "n_3 = '3'\n",
    "equation = n_1 + '+' + n_2 + '=' + n_3\n",
    "print(equation)\n",
    "type(equation)"
   ]
  },
  {
   "cell_type": "markdown",
   "id": "bfa0a501",
   "metadata": {},
   "source": [
    "### 2.3 String operation: repetition<a class=\"anchor\" id=\"2.3\"></a>"
   ]
  },
  {
   "cell_type": "code",
   "execution_count": 13,
   "id": "1544b822",
   "metadata": {},
   "outputs": [
    {
     "name": "stdout",
     "output_type": "stream",
     "text": [
      "Yes!Yes!Yes!\n"
     ]
    }
   ],
   "source": [
    "print('Yes!'*3)"
   ]
  },
  {
   "cell_type": "markdown",
   "id": "bec9cdeb",
   "metadata": {},
   "source": [
    "### 2.4 String operation: indexing and slicing<a class=\"anchor\" id=\"2.4\"></a>"
   ]
  },
  {
   "cell_type": "code",
   "execution_count": 14,
   "id": "49b45af2",
   "metadata": {},
   "outputs": [
    {
     "data": {
      "text/plain": [
       "False"
      ]
     },
     "execution_count": 14,
     "metadata": {},
     "output_type": "execute_result"
    }
   ],
   "source": [
    "x = 'Guess what!'\n",
    "'g' in x"
   ]
  },
  {
   "cell_type": "code",
   "execution_count": 15,
   "id": "52ce5155",
   "metadata": {},
   "outputs": [
    {
     "data": {
      "text/plain": [
       "True"
      ]
     },
     "execution_count": 15,
     "metadata": {},
     "output_type": "execute_result"
    }
   ],
   "source": [
    "'g' not in x"
   ]
  },
  {
   "cell_type": "code",
   "execution_count": 16,
   "id": "7d39f530",
   "metadata": {},
   "outputs": [
    {
     "data": {
      "text/plain": [
       "True"
      ]
     },
     "execution_count": 16,
     "metadata": {},
     "output_type": "execute_result"
    }
   ],
   "source": [
    "'Gu' in x"
   ]
  },
  {
   "cell_type": "code",
   "execution_count": 17,
   "id": "55ca30c9",
   "metadata": {},
   "outputs": [
    {
     "name": "stdout",
     "output_type": "stream",
     "text": [
      "a\n",
      "d\n",
      "g\n",
      "e\n"
     ]
    }
   ],
   "source": [
    "alphabet = 'abcdefg'\n",
    "print(alphabet[0])\n",
    "print(alphabet[3])\n",
    "print(alphabet[-1])\n",
    "print(alphabet[-3])"
   ]
  },
  {
   "cell_type": "code",
   "execution_count": 18,
   "id": "d3739d0b",
   "metadata": {},
   "outputs": [
    {
     "name": "stdout",
     "output_type": "stream",
     "text": [
      "cde\n"
     ]
    }
   ],
   "source": [
    "print(alphabet[2:5])"
   ]
  },
  {
   "cell_type": "code",
   "execution_count": 19,
   "id": "c875d15b",
   "metadata": {},
   "outputs": [
    {
     "name": "stdout",
     "output_type": "stream",
     "text": [
      "abcde\n"
     ]
    }
   ],
   "source": [
    "print(alphabet[:5])"
   ]
  },
  {
   "cell_type": "code",
   "execution_count": 20,
   "id": "50527956",
   "metadata": {},
   "outputs": [
    {
     "name": "stdout",
     "output_type": "stream",
     "text": [
      "cdefg\n"
     ]
    }
   ],
   "source": [
    "print(alphabet[2:])"
   ]
  },
  {
   "cell_type": "code",
   "execution_count": 21,
   "id": "429c0397",
   "metadata": {},
   "outputs": [
    {
     "name": "stdout",
     "output_type": "stream",
     "text": [
      "cde\n",
      "ce\n",
      "ce\n",
      "ceg\n"
     ]
    }
   ],
   "source": [
    "print(alphabet[2:5:1])\n",
    "print(alphabet[2:5:2])\n",
    "print(alphabet[2:6:2])\n",
    "print(alphabet[2:7:2])"
   ]
  },
  {
   "cell_type": "markdown",
   "id": "16245bff",
   "metadata": {},
   "source": [
    "#### Exercise 1"
   ]
  },
  {
   "cell_type": "code",
   "execution_count": 22,
   "id": "10f01c6a",
   "metadata": {},
   "outputs": [
    {
     "name": "stdout",
     "output_type": "stream",
     "text": [
      "jingjie zhang\n",
      "Jingjie Zhang\n",
      "JINGJIE ZHANG\n",
      "jingjie zhang\n",
      "Hello Jingjie Zhang, welcome to Python World!\n",
      "Hello Jingjie Zhang, welcome to Python World!\n"
     ]
    }
   ],
   "source": [
    "first_name = \"jingjie\"\n",
    "last_name = \"zhang\"\n",
    "full_name = first_name + \" \" + last_name \n",
    "print(full_name)\n",
    "print(full_name.title()) \n",
    "print(full_name.upper()) \n",
    "print(full_name.lower())\n",
    "print(\"Hello \" + full_name.title() + \", welcome to Python World!\") \n",
    "message = \"Hello \" + full_name.title() + \", welcome to Python World!\" \n",
    "print(message)"
   ]
  },
  {
   "cell_type": "markdown",
   "id": "39c349de",
   "metadata": {},
   "source": [
    "#### Exercise 2"
   ]
  },
  {
   "cell_type": "code",
   "execution_count": 24,
   "id": "52cb4bb2",
   "metadata": {},
   "outputs": [],
   "source": [
    "months='JanFebMarAprMayJunJulAugSepOctNovDec'"
   ]
  },
  {
   "cell_type": "code",
   "execution_count": 25,
   "id": "1d7d4d94",
   "metadata": {},
   "outputs": [
    {
     "name": "stdout",
     "output_type": "stream",
     "text": [
      "False\n"
     ]
    }
   ],
   "source": [
    "print('Z' in months)"
   ]
  },
  {
   "cell_type": "code",
   "execution_count": 26,
   "id": "5530bb74",
   "metadata": {},
   "outputs": [
    {
     "name": "stdout",
     "output_type": "stream",
     "text": [
      "Mar\n",
      "AprMayJunJulAugSepOctNovDec\n",
      "JanFebMarAprMayJunJulAugSepOctNov\n"
     ]
    }
   ],
   "source": [
    "mar = months[6:9]\n",
    "print(mar)\n",
    "after_mar = months[9:]\n",
    "print(after_mar)\n",
    "before_dec = months[:-3]\n",
    "print(before_dec)"
   ]
  },
  {
   "cell_type": "code",
   "execution_count": 27,
   "id": "99a2ca8a",
   "metadata": {},
   "outputs": [
    {
     "name": "stdout",
     "output_type": "stream",
     "text": [
      "Mar!Mar!Mar!\n"
     ]
    }
   ],
   "source": [
    "print((mar+'!')*3)"
   ]
  },
  {
   "cell_type": "markdown",
   "id": "1eb123bb",
   "metadata": {},
   "source": [
    "### 2.5 Special characters and raw strings<a class=\"anchor\" id=\"2.5\"></a>\n",
    "\n"
   ]
  },
  {
   "cell_type": "code",
   "execution_count": 28,
   "id": "e56f40a0",
   "metadata": {},
   "outputs": [
    {
     "name": "stdout",
     "output_type": "stream",
     "text": [
      "This is a gold fish\n",
      "This is a gold \bfish\n"
     ]
    }
   ],
   "source": [
    "print('This is a gold fish')\n",
    "print('This is a gold \\bfish')"
   ]
  },
  {
   "cell_type": "code",
   "execution_count": 29,
   "id": "41411918",
   "metadata": {},
   "outputs": [
    {
     "name": "stdout",
     "output_type": "stream",
     "text": [
      "This is a gold \n",
      "fish\n"
     ]
    }
   ],
   "source": [
    "print('This is a gold \\nfish')"
   ]
  },
  {
   "cell_type": "code",
   "execution_count": 30,
   "id": "71e53300",
   "metadata": {},
   "outputs": [
    {
     "name": "stdout",
     "output_type": "stream",
     "text": [
      "This is a gold \r",
      "fish\n"
     ]
    }
   ],
   "source": [
    "print('This is a gold \\rfish')"
   ]
  },
  {
   "cell_type": "code",
   "execution_count": 31,
   "id": "9e585785",
   "metadata": {},
   "outputs": [
    {
     "name": "stdout",
     "output_type": "stream",
     "text": [
      "\tThis is \ta gold fish\n"
     ]
    }
   ],
   "source": [
    "print('\\tThis is \\ta gold fish')"
   ]
  },
  {
   "cell_type": "code",
   "execution_count": 32,
   "id": "0093087b",
   "metadata": {},
   "outputs": [
    {
     "name": "stdout",
     "output_type": "stream",
     "text": [
      "\u000b",
      "This is \n",
      "\u000b",
      "a gold fish\n"
     ]
    }
   ],
   "source": [
    "print('\\vThis is \\n\\va gold fish')"
   ]
  },
  {
   "cell_type": "code",
   "execution_count": 33,
   "id": "5aebcfde",
   "metadata": {},
   "outputs": [
    {
     "name": "stdout",
     "output_type": "stream",
     "text": [
      "\\vThis is \\n\\va gold fish\n"
     ]
    }
   ],
   "source": [
    "print(r'\\vThis is \\n\\va gold fish')"
   ]
  },
  {
   "cell_type": "markdown",
   "id": "41f5fa12",
   "metadata": {},
   "source": [
    "#### Exercise 3"
   ]
  },
  {
   "cell_type": "code",
   "execution_count": 34,
   "id": "1696bed6",
   "metadata": {},
   "outputs": [],
   "source": [
    "Name = \"Jingjie Zhang\"\n",
    "StudentID = \"666666\"\n",
    "Affiliation = \"Financial Technology\" \n",
    "Sex = \"Female\"\n",
    "Age = \"27\""
   ]
  },
  {
   "cell_type": "code",
   "execution_count": 35,
   "id": "ca969ffa",
   "metadata": {},
   "outputs": [],
   "source": [
    "info = \"Personal Information:\\n\\\n",
    "\\tYourname: \"+Name+\"\\n\"\\\n",
    "+\"\\tStudent ID: \"+StudentID+\"\\n\"\\\n",
    "+\"\\tAge: \"+Age+\"\\n\"\\\n",
    "+\"\\tSex: \"+Sex"
   ]
  },
  {
   "cell_type": "code",
   "execution_count": 36,
   "id": "c887329e",
   "metadata": {},
   "outputs": [
    {
     "name": "stdout",
     "output_type": "stream",
     "text": [
      "Personal Information:\n",
      "\tYourname: Jingjie Zhang\n",
      "\tStudent ID: 666666\n",
      "\tAge: 27\n",
      "\tSex: Female\n"
     ]
    }
   ],
   "source": [
    "print(info)"
   ]
  },
  {
   "cell_type": "markdown",
   "id": "acca5c4b",
   "metadata": {},
   "source": [
    "### 2.6 Commonly used functions and methods for character strings<a class=\"anchor\" id=\"2.6\"></a>"
   ]
  },
  {
   "cell_type": "code",
   "execution_count": 37,
   "id": "5eb97d48",
   "metadata": {},
   "outputs": [
    {
     "name": "stdout",
     "output_type": "stream",
     "text": [
      " Python and Programming \n",
      " Python and Programming\n",
      "Python and Programming \n",
      "Python and Programming\n"
     ]
    }
   ],
   "source": [
    "classname = \" Python and Programming \" \n",
    "print(classname) \n",
    "print(classname.rstrip()) \n",
    "print(classname.lstrip()) \n",
    "print(classname.strip())\n",
    "classname_new = classname.strip()"
   ]
  },
  {
   "cell_type": "code",
   "execution_count": 38,
   "id": "9fe643a3",
   "metadata": {},
   "outputs": [
    {
     "name": "stdout",
     "output_type": "stream",
     "text": [
      "Jingjie Zhang\n",
      "My first name is Jingjie and last name is Zhang.\n"
     ]
    }
   ],
   "source": [
    "first_name = \"jingjie\"\n",
    "last_name = \"zhang\"\n",
    "full_name = (\"%s %s\"%(first_name.title(),last_name.title())) \n",
    "print(full_name)\n",
    "#OR\n",
    "print(\"My first name is %s and last name is %s.\"\\\n",
    "      %(first_name.title(),last_name.title()))"
   ]
  },
  {
   "cell_type": "code",
   "execution_count": 39,
   "id": "27e84f16",
   "metadata": {},
   "outputs": [
    {
     "name": "stdout",
     "output_type": "stream",
     "text": [
      "My name is Jingjie Zhang.\n",
      "My name is Jingjie Zhang.\n"
     ]
    }
   ],
   "source": [
    "print(\"My name is {} {}.\".format(first_name.title(),last_name.title()))\n",
    " \n",
    "#OR\n",
    "\n",
    "intro = \"My name is {} {}.\"\n",
    "print(intro.format(first_name.title(),last_name.title()))"
   ]
  },
  {
   "cell_type": "code",
   "execution_count": 40,
   "id": "139f3eaa",
   "metadata": {},
   "outputs": [
    {
     "name": "stdout",
     "output_type": "stream",
     "text": [
      "My name is {} {}.\n",
      "17\n"
     ]
    }
   ],
   "source": [
    "print(intro)\n",
    "print(len(intro))"
   ]
  },
  {
   "cell_type": "code",
   "execution_count": 41,
   "id": "311164e7",
   "metadata": {},
   "outputs": [
    {
     "name": "stdout",
     "output_type": "stream",
     "text": [
      "<class 'int'>\n",
      "<class 'str'>\n"
     ]
    }
   ],
   "source": [
    "Age = 18\n",
    "print(type(Age))\n",
    "age = str(Age)\n",
    "print(type(age))"
   ]
  },
  {
   "cell_type": "code",
   "execution_count": 42,
   "id": "847d24a8",
   "metadata": {},
   "outputs": [
    {
     "name": "stdout",
     "output_type": "stream",
     "text": [
      "18\n"
     ]
    }
   ],
   "source": [
    "print(age)"
   ]
  },
  {
   "cell_type": "markdown",
   "id": "e310ce8c",
   "metadata": {},
   "source": [
    "#### Exercise 4"
   ]
  },
  {
   "cell_type": "code",
   "execution_count": 43,
   "id": "98b3a6c7",
   "metadata": {},
   "outputs": [
    {
     "name": "stdout",
     "output_type": "stream",
     "text": [
      "My favorite number is 9.\n",
      "24\n"
     ]
    }
   ],
   "source": [
    "my_num = 9\n",
    "text = 'My favorite number is %s.'%(str(my_num))\n",
    "print(text)\n",
    "print(len(text))"
   ]
  },
  {
   "cell_type": "markdown",
   "id": "16bf5751",
   "metadata": {},
   "source": [
    "### 2.7 Comments<a class=\"anchor\" id=\"2.7\"></a>"
   ]
  },
  {
   "cell_type": "code",
   "execution_count": 44,
   "id": "7174367d",
   "metadata": {},
   "outputs": [
    {
     "name": "stdout",
     "output_type": "stream",
     "text": [
      "where is the comment?\n"
     ]
    }
   ],
   "source": [
    "# One line comment\n",
    "print(\"where is the comment?\")"
   ]
  },
  {
   "cell_type": "code",
   "execution_count": 45,
   "id": "5e996973",
   "metadata": {},
   "outputs": [
    {
     "name": "stdout",
     "output_type": "stream",
     "text": [
      "5.0\n"
     ]
    }
   ],
   "source": [
    "'''\n",
    "Pythagorean theorem\n",
    "Input: x, y\n",
    "Output: (x^2+ y^2)^(0.5)\n",
    "Author: Jingjie Zhang\n",
    "'''\n",
    "def pythagorean(x,y):\n",
    "    return (x**2+y**2)**(0.5)\n",
    "\n",
    "print(pythagorean(3,4))"
   ]
  },
  {
   "cell_type": "code",
   "execution_count": 46,
   "id": "5aae1549",
   "metadata": {},
   "outputs": [
    {
     "name": "stdout",
     "output_type": "stream",
     "text": [
      "- How are you?\n",
      "- Fine, thank you. And you?\n",
      "- Fine, too. Thanks!\n"
     ]
    }
   ],
   "source": [
    "print(\"- How are you?\\n- Fine, thank you. And you?\\n- Fine, too. Thanks!\")"
   ]
  },
  {
   "cell_type": "code",
   "execution_count": 47,
   "id": "ea31699f",
   "metadata": {},
   "outputs": [
    {
     "name": "stdout",
     "output_type": "stream",
     "text": [
      "- How are you?\n",
      "- Fine, thank you. And you?\n",
      "- Fine, too. Thanks!\n",
      "\n"
     ]
    }
   ],
   "source": [
    "print('''- How are you?\n",
    "- Fine, thank you. And you?\n",
    "- Fine, too. Thanks!\n",
    "''')"
   ]
  },
  {
   "cell_type": "code",
   "execution_count": 48,
   "id": "9c67956a",
   "metadata": {},
   "outputs": [
    {
     "name": "stdout",
     "output_type": "stream",
     "text": [
      "She said \"Yes!\"\n"
     ]
    }
   ],
   "source": [
    "print('She said \"Yes!\"')"
   ]
  },
  {
   "cell_type": "markdown",
   "id": "242935a5",
   "metadata": {},
   "source": [
    "## 3 Numeric data<a class=\"anchor\" id=\"3\"></a>\n",
    "### 3.1 Types of numeric data<a class=\"anchor\" id=\"3.1\"></a>\n",
    "#### 3.1.1 integer<a class=\"anchor\" id=\"3.1.1\"></a>"
   ]
  },
  {
   "cell_type": "code",
   "execution_count": 49,
   "id": "1aa9a84d",
   "metadata": {},
   "outputs": [
    {
     "name": "stdout",
     "output_type": "stream",
     "text": [
      "<class 'int'>\n"
     ]
    }
   ],
   "source": [
    "n = 1\n",
    "print(type(n))"
   ]
  },
  {
   "cell_type": "markdown",
   "id": "a0789fbc",
   "metadata": {},
   "source": [
    "#### 3.1.2 floating point number<a class=\"anchor\" id=\"3.1.2\"></a>"
   ]
  },
  {
   "cell_type": "code",
   "execution_count": 50,
   "id": "62f030d1",
   "metadata": {},
   "outputs": [
    {
     "name": "stdout",
     "output_type": "stream",
     "text": [
      "<class 'float'>\n",
      "<class 'float'>\n"
     ]
    }
   ],
   "source": [
    "print(type(3.14))\n",
    "print(type(2.0))"
   ]
  },
  {
   "cell_type": "code",
   "execution_count": 51,
   "id": "898aa21d",
   "metadata": {},
   "outputs": [
    {
     "name": "stdout",
     "output_type": "stream",
     "text": [
      "True\n",
      "False\n"
     ]
    }
   ],
   "source": [
    "print(2.0 == 2)\n",
    "print(type(2.0) == type(2))"
   ]
  },
  {
   "cell_type": "code",
   "execution_count": 52,
   "id": "19bc5f9f",
   "metadata": {},
   "outputs": [
    {
     "name": "stdout",
     "output_type": "stream",
     "text": [
      "960000.0\n",
      "960000.0\n",
      "960000.0\n",
      "960000.0\n",
      "0.0096\n",
      "0.0096\n"
     ]
    }
   ],
   "source": [
    "print(96e4)\n",
    "print(96E4)\n",
    "print(96e+4)\n",
    "print(96E+4)\n",
    "print(96e-4)\n",
    "print(96E-4)"
   ]
  },
  {
   "cell_type": "markdown",
   "id": "6b7d9bdd",
   "metadata": {},
   "source": [
    "#### 3.1.3 complex number<a class=\"anchor\" id=\"3.1.3\"></a>"
   ]
  },
  {
   "cell_type": "code",
   "execution_count": 53,
   "id": "d7595ab4",
   "metadata": {},
   "outputs": [
    {
     "name": "stdout",
     "output_type": "stream",
     "text": [
      "(3+4.1j)\n",
      "3.0\n",
      "4.1\n"
     ]
    }
   ],
   "source": [
    "z = 3+4.1J\n",
    "print(z)\n",
    "print(z.real)\n",
    "print(z.imag)"
   ]
  },
  {
   "cell_type": "code",
   "execution_count": 54,
   "id": "107f7005",
   "metadata": {},
   "outputs": [
    {
     "name": "stdout",
     "output_type": "stream",
     "text": [
      "<class 'float'>\n",
      "<class 'complex'>\n"
     ]
    }
   ],
   "source": [
    "print(type(2+2.0))\n",
    "print(type(3.4*z))"
   ]
  },
  {
   "cell_type": "code",
   "execution_count": 55,
   "id": "ee9a8dc5",
   "metadata": {},
   "outputs": [
    {
     "name": "stdout",
     "output_type": "stream",
     "text": [
      "0\n",
      "0\n",
      "1\n",
      "-1\n"
     ]
    }
   ],
   "source": [
    "print(int(0.9))\n",
    "print(int(-0.9))\n",
    "print(int(1.9))\n",
    "print(int(-1.1))"
   ]
  },
  {
   "cell_type": "markdown",
   "id": "db7748b6",
   "metadata": {},
   "source": [
    "#### 3.1.4 Boolean<a class=\"anchor\" id=\"3.1.4\"></a>"
   ]
  },
  {
   "cell_type": "code",
   "execution_count": 56,
   "id": "b927027a",
   "metadata": {},
   "outputs": [
    {
     "name": "stdout",
     "output_type": "stream",
     "text": [
      "True\n",
      "1\n",
      "1.0\n",
      "0.0\n"
     ]
    }
   ],
   "source": [
    "print(True)\n",
    "print(int(True))\n",
    "print(float(True))\n",
    "print(False*3.5)"
   ]
  },
  {
   "cell_type": "code",
   "execution_count": 57,
   "id": "23d2a596",
   "metadata": {},
   "outputs": [
    {
     "name": "stdout",
     "output_type": "stream",
     "text": [
      "True\n",
      "False\n",
      "False\n",
      "True\n",
      "False\n"
     ]
    }
   ],
   "source": [
    "print(bool(5.2))\n",
    "print(bool(0.0))\n",
    "print(bool(''))\n",
    "print(bool(' '))\n",
    "print(bool([ ]))"
   ]
  },
  {
   "cell_type": "markdown",
   "id": "dbd15a9e",
   "metadata": {},
   "source": [
    "#### 3.1.5 Nonetype<a class=\"anchor\" id=\"3.1.5\"></a>"
   ]
  },
  {
   "cell_type": "code",
   "execution_count": 58,
   "id": "559d20b4",
   "metadata": {},
   "outputs": [
    {
     "name": "stdout",
     "output_type": "stream",
     "text": [
      "<class 'NoneType'>\n"
     ]
    }
   ],
   "source": [
    "a = None\n",
    "print(type(a))"
   ]
  },
  {
   "cell_type": "markdown",
   "id": "9b519810",
   "metadata": {},
   "source": [
    "### 3.2 Operators<a class=\"anchor\" id=\"3.2\"></a>\n",
    "#### 3.2.1 Arithmetic operators<a class=\"anchor\" id=\"3.2.1\"></a>"
   ]
  },
  {
   "cell_type": "code",
   "execution_count": 59,
   "id": "8021ca52",
   "metadata": {},
   "outputs": [
    {
     "name": "stdout",
     "output_type": "stream",
     "text": [
      "5.0\n"
     ]
    }
   ],
   "source": [
    "#Revisit this example\n",
    "'''\n",
    "Pythagorean theorem\n",
    "Input: x, y\n",
    "Output: (x^2+ y^2)^(0.5)\n",
    "Author: Jingjie Zhang\n",
    "'''\n",
    "def pythagorean(x,y):\n",
    "    return (x**2+y**2)**(0.5)\n",
    "\n",
    "print(pythagorean(3,4))"
   ]
  },
  {
   "cell_type": "code",
   "execution_count": 60,
   "id": "a01c4ed9",
   "metadata": {},
   "outputs": [
    {
     "name": "stdout",
     "output_type": "stream",
     "text": [
      "3.3333333333333335\n",
      "3\n",
      "3.484848484848485\n",
      "3.0\n"
     ]
    }
   ],
   "source": [
    "print(10/3)\n",
    "print(10//3)\n",
    "print(11.5/3.3)\n",
    "print(11.5//3.3)"
   ]
  },
  {
   "cell_type": "code",
   "execution_count": 61,
   "id": "3974f987",
   "metadata": {},
   "outputs": [
    {
     "name": "stdout",
     "output_type": "stream",
     "text": [
      "1\n"
     ]
    }
   ],
   "source": [
    "print(10%3)"
   ]
  },
  {
   "cell_type": "code",
   "execution_count": 62,
   "id": "ef51193f",
   "metadata": {},
   "outputs": [
    {
     "name": "stdout",
     "output_type": "stream",
     "text": [
      "21\n"
     ]
    }
   ],
   "source": [
    "print(30-3**2+8//3**2*10)"
   ]
  },
  {
   "cell_type": "markdown",
   "id": "9f7b0e7a",
   "metadata": {},
   "source": [
    "#### 3.2.2 Assignment operators<a class=\"anchor\" id=\"3.2.2\"></a>"
   ]
  },
  {
   "cell_type": "code",
   "execution_count": 63,
   "id": "3188051c",
   "metadata": {},
   "outputs": [
    {
     "name": "stdout",
     "output_type": "stream",
     "text": [
      "11\n",
      "10\n",
      "20\n",
      "10.0\n",
      "100.0\n"
     ]
    }
   ],
   "source": [
    "x = 10\n",
    "x += 1 # This is the same as x = x+1\n",
    "print(x)\n",
    "x -= 1\n",
    "print(x)\n",
    "x *= 2\n",
    "print(x)\n",
    "x /= 2\n",
    "print(x)\n",
    "x **= 2\n",
    "print(x)"
   ]
  },
  {
   "cell_type": "markdown",
   "id": "4ed349bb",
   "metadata": {},
   "source": [
    "#### 3.2.3 Comparison operators<a class=\"anchor\" id=\"3.2.3\"></a>"
   ]
  },
  {
   "cell_type": "code",
   "execution_count": null,
   "id": "2058270d",
   "metadata": {},
   "outputs": [],
   "source": [
    "print((3*3)==(3**3))"
   ]
  },
  {
   "cell_type": "code",
   "execution_count": null,
   "id": "b2a90155",
   "metadata": {},
   "outputs": [],
   "source": [
    "print(3*(3==3)**3)"
   ]
  },
  {
   "cell_type": "code",
   "execution_count": null,
   "id": "a4fb30a4",
   "metadata": {},
   "outputs": [],
   "source": [
    "print((3*3)<(3**3))"
   ]
  },
  {
   "cell_type": "code",
   "execution_count": null,
   "id": "21c15b7e",
   "metadata": {},
   "outputs": [],
   "source": [
    "print('a'>='b')"
   ]
  },
  {
   "cell_type": "code",
   "execution_count": null,
   "id": "9b8e5848",
   "metadata": {},
   "outputs": [],
   "source": [
    "print('a'!='A')"
   ]
  },
  {
   "cell_type": "markdown",
   "id": "b7c76d1c",
   "metadata": {},
   "source": [
    "#### 3.2.4 Logical operators<a class=\"anchor\" id=\"3.2.4\"></a>"
   ]
  },
  {
   "cell_type": "code",
   "execution_count": 64,
   "id": "a2f29606",
   "metadata": {},
   "outputs": [
    {
     "name": "stdout",
     "output_type": "stream",
     "text": [
      "2\n",
      "0\n",
      "0\n"
     ]
    }
   ],
   "source": [
    "print(1 and 2)\n",
    "print(0 and 2)\n",
    "print(1 and 0)"
   ]
  },
  {
   "cell_type": "code",
   "execution_count": 65,
   "id": "c4b2e96b",
   "metadata": {},
   "outputs": [
    {
     "name": "stdout",
     "output_type": "stream",
     "text": [
      "False\n"
     ]
    }
   ],
   "source": [
    "print(True and False)"
   ]
  },
  {
   "cell_type": "code",
   "execution_count": 66,
   "id": "ac444bd8",
   "metadata": {},
   "outputs": [
    {
     "name": "stdout",
     "output_type": "stream",
     "text": [
      "1\n",
      "False\n",
      "0\n"
     ]
    }
   ],
   "source": [
    "print(1 or 0)\n",
    "print(0 or False)\n",
    "print(False or 0)"
   ]
  },
  {
   "cell_type": "code",
   "execution_count": 67,
   "id": "92bfa5ca",
   "metadata": {},
   "outputs": [
    {
     "name": "stdout",
     "output_type": "stream",
     "text": [
      "True\n",
      "False\n"
     ]
    }
   ],
   "source": [
    "print(not(False or 0))\n",
    "print(not(2 or False))"
   ]
  },
  {
   "cell_type": "markdown",
   "id": "748a1718",
   "metadata": {},
   "source": [
    "### 3.4 Functions for numeric data<a class=\"anchor\" id=\"3.4\"></a>"
   ]
  },
  {
   "cell_type": "code",
   "execution_count": 68,
   "id": "65d20b19",
   "metadata": {},
   "outputs": [
    {
     "name": "stdout",
     "output_type": "stream",
     "text": [
      "4.9\n"
     ]
    }
   ],
   "source": [
    "print(abs(5-9.9))"
   ]
  },
  {
   "cell_type": "code",
   "execution_count": 69,
   "id": "c24546f3",
   "metadata": {},
   "outputs": [
    {
     "name": "stdout",
     "output_type": "stream",
     "text": [
      "3 1\n",
      "(3, 1)\n",
      "<class 'tuple'>\n"
     ]
    }
   ],
   "source": [
    "print(10//3,10%3)\n",
    "print(divmod(10,3))\n",
    "print(type(divmod(10,3)))"
   ]
  },
  {
   "cell_type": "code",
   "execution_count": null,
   "id": "e0e1a9ca",
   "metadata": {},
   "outputs": [],
   "source": []
  },
  {
   "cell_type": "code",
   "execution_count": 70,
   "id": "de20fdb5",
   "metadata": {},
   "outputs": [
    {
     "name": "stdout",
     "output_type": "stream",
     "text": [
      "100\n",
      "1\n"
     ]
    }
   ],
   "source": [
    "print(pow(10,2))\n",
    "print(pow(10,2,9))"
   ]
  },
  {
   "cell_type": "code",
   "execution_count": 73,
   "id": "5a6e49e1",
   "metadata": {},
   "outputs": [
    {
     "name": "stdout",
     "output_type": "stream",
     "text": [
      "1 0 0\n",
      "0 0 0\n",
      "-1 0 0\n",
      "0 0 0\n"
     ]
    }
   ],
   "source": [
    "print(round(0.9),round(0.5),round(0.1))\n",
    "print(int(0.9),int(0.5),int(0.1))\n",
    "print(round(-0.9),round(-0.5),round(-0.1))\n",
    "print(int(-0.9),int(-0.5),int(-0.1))"
   ]
  },
  {
   "cell_type": "code",
   "execution_count": 74,
   "id": "688449aa",
   "metadata": {},
   "outputs": [
    {
     "name": "stdout",
     "output_type": "stream",
     "text": [
      "3.14\n"
     ]
    }
   ],
   "source": [
    "print(round(3.1415926,2))"
   ]
  },
  {
   "cell_type": "code",
   "execution_count": 75,
   "id": "064d2b28",
   "metadata": {},
   "outputs": [
    {
     "name": "stdout",
     "output_type": "stream",
     "text": [
      "4\n",
      "1\n"
     ]
    }
   ],
   "source": [
    "print(max(1,2,3,4))\n",
    "print(min(1,2,3,4))"
   ]
  },
  {
   "cell_type": "markdown",
   "id": "aaefc36c",
   "metadata": {},
   "source": [
    "### 3.5 Placeholder<a class=\"anchor\" id=\"3.5\"></a>"
   ]
  },
  {
   "cell_type": "code",
   "execution_count": 77,
   "id": "a8686bb0",
   "metadata": {},
   "outputs": [
    {
     "name": "stdout",
     "output_type": "stream",
     "text": [
      "The price of this chair is 189.990000 and we only have 3 left.\n",
      "The price of this CHAIR is 189.99 and we only have 3 left.\n",
      "The price of this Chair is 1.899900e+02 and we only have 3 left.\n",
      "The price of this chair is 1.900e+02 and we only have 3 left.\n",
      "The price of this chair is 1.900e+02 and we only have 3.000000 left.\n"
     ]
    }
   ],
   "source": [
    "item = \"chair\"\n",
    "n = 3\n",
    "price = 189.99\n",
    "\n",
    "print(\"The price of this %s is %f and we only have %d left.\"%(item, price,n))\n",
    "print(\"The price of this %s is %.2f and we only have %d left.\"%(item.upper(), price,n))\n",
    "print(\"The price of this %s is %e and we only have %d left.\"%(item.title(), price,n))\n",
    "print(\"The price of this %s is %.3e and we only have %d left.\"%(item, price,n))\n",
    "print(\"The price of this %s is %.3e and we only have %f left.\"%(item, price,n))"
   ]
  },
  {
   "cell_type": "code",
   "execution_count": 89,
   "id": "187f3706",
   "metadata": {},
   "outputs": [
    {
     "name": "stdout",
     "output_type": "stream",
     "text": [
      "The price of this chair is 189.99 and we only have 3 left.\n"
     ]
    }
   ],
   "source": [
    "item = \"chair\"\n",
    "n = 3\n",
    "price = 189.99\n",
    "\n",
    "print(\"The price of this %s is %s and we only have %s left.\"%(item,str(price),str(n)))"
   ]
  },
  {
   "cell_type": "code",
   "execution_count": 84,
   "id": "cc6651b7",
   "metadata": {},
   "outputs": [
    {
     "name": "stdout",
     "output_type": "stream",
     "text": [
      "189.99\n"
     ]
    }
   ],
   "source": [
    "print(str(price))"
   ]
  },
  {
   "cell_type": "markdown",
   "id": "82f1f368",
   "metadata": {},
   "source": [
    "### 3.6 Math module<a class=\"anchor\" id=\"3.6\"></a>"
   ]
  },
  {
   "cell_type": "code",
   "execution_count": 78,
   "id": "ad82fb3f",
   "metadata": {},
   "outputs": [],
   "source": [
    "import math"
   ]
  },
  {
   "cell_type": "code",
   "execution_count": 79,
   "id": "e5348bca",
   "metadata": {},
   "outputs": [
    {
     "data": {
      "text/plain": [
       "['__doc__',\n",
       " '__file__',\n",
       " '__loader__',\n",
       " '__name__',\n",
       " '__package__',\n",
       " '__spec__',\n",
       " 'acos',\n",
       " 'acosh',\n",
       " 'asin',\n",
       " 'asinh',\n",
       " 'atan',\n",
       " 'atan2',\n",
       " 'atanh',\n",
       " 'ceil',\n",
       " 'comb',\n",
       " 'copysign',\n",
       " 'cos',\n",
       " 'cosh',\n",
       " 'degrees',\n",
       " 'dist',\n",
       " 'e',\n",
       " 'erf',\n",
       " 'erfc',\n",
       " 'exp',\n",
       " 'expm1',\n",
       " 'fabs',\n",
       " 'factorial',\n",
       " 'floor',\n",
       " 'fmod',\n",
       " 'frexp',\n",
       " 'fsum',\n",
       " 'gamma',\n",
       " 'gcd',\n",
       " 'hypot',\n",
       " 'inf',\n",
       " 'isclose',\n",
       " 'isfinite',\n",
       " 'isinf',\n",
       " 'isnan',\n",
       " 'isqrt',\n",
       " 'ldexp',\n",
       " 'lgamma',\n",
       " 'log',\n",
       " 'log10',\n",
       " 'log1p',\n",
       " 'log2',\n",
       " 'modf',\n",
       " 'nan',\n",
       " 'perm',\n",
       " 'pi',\n",
       " 'pow',\n",
       " 'prod',\n",
       " 'radians',\n",
       " 'remainder',\n",
       " 'sin',\n",
       " 'sinh',\n",
       " 'sqrt',\n",
       " 'tan',\n",
       " 'tanh',\n",
       " 'tau',\n",
       " 'trunc']"
      ]
     },
     "execution_count": 79,
     "metadata": {},
     "output_type": "execute_result"
    }
   ],
   "source": [
    "dir(math)"
   ]
  },
  {
   "cell_type": "code",
   "execution_count": 80,
   "id": "b8ea45be",
   "metadata": {},
   "outputs": [
    {
     "name": "stdout",
     "output_type": "stream",
     "text": [
      "Help on module math:\n",
      "\n",
      "NAME\n",
      "    math\n",
      "\n",
      "MODULE REFERENCE\n",
      "    https://docs.python.org/3.8/library/math\n",
      "    \n",
      "    The following documentation is automatically generated from the Python\n",
      "    source files.  It may be incomplete, incorrect or include features that\n",
      "    are considered implementation detail and may vary between Python\n",
      "    implementations.  When in doubt, consult the module reference at the\n",
      "    location listed above.\n",
      "\n",
      "DESCRIPTION\n",
      "    This module provides access to the mathematical functions\n",
      "    defined by the C standard.\n",
      "\n",
      "FUNCTIONS\n",
      "    acos(x, /)\n",
      "        Return the arc cosine (measured in radians) of x.\n",
      "    \n",
      "    acosh(x, /)\n",
      "        Return the inverse hyperbolic cosine of x.\n",
      "    \n",
      "    asin(x, /)\n",
      "        Return the arc sine (measured in radians) of x.\n",
      "    \n",
      "    asinh(x, /)\n",
      "        Return the inverse hyperbolic sine of x.\n",
      "    \n",
      "    atan(x, /)\n",
      "        Return the arc tangent (measured in radians) of x.\n",
      "    \n",
      "    atan2(y, x, /)\n",
      "        Return the arc tangent (measured in radians) of y/x.\n",
      "        \n",
      "        Unlike atan(y/x), the signs of both x and y are considered.\n",
      "    \n",
      "    atanh(x, /)\n",
      "        Return the inverse hyperbolic tangent of x.\n",
      "    \n",
      "    ceil(x, /)\n",
      "        Return the ceiling of x as an Integral.\n",
      "        \n",
      "        This is the smallest integer >= x.\n",
      "    \n",
      "    comb(n, k, /)\n",
      "        Number of ways to choose k items from n items without repetition and without order.\n",
      "        \n",
      "        Evaluates to n! / (k! * (n - k)!) when k <= n and evaluates\n",
      "        to zero when k > n.\n",
      "        \n",
      "        Also called the binomial coefficient because it is equivalent\n",
      "        to the coefficient of k-th term in polynomial expansion of the\n",
      "        expression (1 + x)**n.\n",
      "        \n",
      "        Raises TypeError if either of the arguments are not integers.\n",
      "        Raises ValueError if either of the arguments are negative.\n",
      "    \n",
      "    copysign(x, y, /)\n",
      "        Return a float with the magnitude (absolute value) of x but the sign of y.\n",
      "        \n",
      "        On platforms that support signed zeros, copysign(1.0, -0.0)\n",
      "        returns -1.0.\n",
      "    \n",
      "    cos(x, /)\n",
      "        Return the cosine of x (measured in radians).\n",
      "    \n",
      "    cosh(x, /)\n",
      "        Return the hyperbolic cosine of x.\n",
      "    \n",
      "    degrees(x, /)\n",
      "        Convert angle x from radians to degrees.\n",
      "    \n",
      "    dist(p, q, /)\n",
      "        Return the Euclidean distance between two points p and q.\n",
      "        \n",
      "        The points should be specified as sequences (or iterables) of\n",
      "        coordinates.  Both inputs must have the same dimension.\n",
      "        \n",
      "        Roughly equivalent to:\n",
      "            sqrt(sum((px - qx) ** 2.0 for px, qx in zip(p, q)))\n",
      "    \n",
      "    erf(x, /)\n",
      "        Error function at x.\n",
      "    \n",
      "    erfc(x, /)\n",
      "        Complementary error function at x.\n",
      "    \n",
      "    exp(x, /)\n",
      "        Return e raised to the power of x.\n",
      "    \n",
      "    expm1(x, /)\n",
      "        Return exp(x)-1.\n",
      "        \n",
      "        This function avoids the loss of precision involved in the direct evaluation of exp(x)-1 for small x.\n",
      "    \n",
      "    fabs(x, /)\n",
      "        Return the absolute value of the float x.\n",
      "    \n",
      "    factorial(x, /)\n",
      "        Find x!.\n",
      "        \n",
      "        Raise a ValueError if x is negative or non-integral.\n",
      "    \n",
      "    floor(x, /)\n",
      "        Return the floor of x as an Integral.\n",
      "        \n",
      "        This is the largest integer <= x.\n",
      "    \n",
      "    fmod(x, y, /)\n",
      "        Return fmod(x, y), according to platform C.\n",
      "        \n",
      "        x % y may differ.\n",
      "    \n",
      "    frexp(x, /)\n",
      "        Return the mantissa and exponent of x, as pair (m, e).\n",
      "        \n",
      "        m is a float and e is an int, such that x = m * 2.**e.\n",
      "        If x is 0, m and e are both 0.  Else 0.5 <= abs(m) < 1.0.\n",
      "    \n",
      "    fsum(seq, /)\n",
      "        Return an accurate floating point sum of values in the iterable seq.\n",
      "        \n",
      "        Assumes IEEE-754 floating point arithmetic.\n",
      "    \n",
      "    gamma(x, /)\n",
      "        Gamma function at x.\n",
      "    \n",
      "    gcd(x, y, /)\n",
      "        greatest common divisor of x and y\n",
      "    \n",
      "    hypot(...)\n",
      "        hypot(*coordinates) -> value\n",
      "        \n",
      "        Multidimensional Euclidean distance from the origin to a point.\n",
      "        \n",
      "        Roughly equivalent to:\n",
      "            sqrt(sum(x**2 for x in coordinates))\n",
      "        \n",
      "        For a two dimensional point (x, y), gives the hypotenuse\n",
      "        using the Pythagorean theorem:  sqrt(x*x + y*y).\n",
      "        \n",
      "        For example, the hypotenuse of a 3/4/5 right triangle is:\n",
      "        \n",
      "            >>> hypot(3.0, 4.0)\n",
      "            5.0\n",
      "    \n",
      "    isclose(a, b, *, rel_tol=1e-09, abs_tol=0.0)\n",
      "        Determine whether two floating point numbers are close in value.\n",
      "        \n",
      "          rel_tol\n",
      "            maximum difference for being considered \"close\", relative to the\n",
      "            magnitude of the input values\n",
      "          abs_tol\n",
      "            maximum difference for being considered \"close\", regardless of the\n",
      "            magnitude of the input values\n",
      "        \n",
      "        Return True if a is close in value to b, and False otherwise.\n",
      "        \n",
      "        For the values to be considered close, the difference between them\n",
      "        must be smaller than at least one of the tolerances.\n",
      "        \n",
      "        -inf, inf and NaN behave similarly to the IEEE 754 Standard.  That\n",
      "        is, NaN is not close to anything, even itself.  inf and -inf are\n",
      "        only close to themselves.\n",
      "    \n",
      "    isfinite(x, /)\n",
      "        Return True if x is neither an infinity nor a NaN, and False otherwise.\n",
      "    \n",
      "    isinf(x, /)\n",
      "        Return True if x is a positive or negative infinity, and False otherwise.\n",
      "    \n",
      "    isnan(x, /)\n",
      "        Return True if x is a NaN (not a number), and False otherwise.\n",
      "    \n",
      "    isqrt(n, /)\n",
      "        Return the integer part of the square root of the input.\n",
      "    \n",
      "    ldexp(x, i, /)\n",
      "        Return x * (2**i).\n",
      "        \n",
      "        This is essentially the inverse of frexp().\n",
      "    \n",
      "    lgamma(x, /)\n",
      "        Natural logarithm of absolute value of Gamma function at x.\n",
      "    \n",
      "    log(...)\n",
      "        log(x, [base=math.e])\n",
      "        Return the logarithm of x to the given base.\n",
      "        \n",
      "        If the base not specified, returns the natural logarithm (base e) of x.\n",
      "    \n",
      "    log10(x, /)\n",
      "        Return the base 10 logarithm of x.\n",
      "    \n",
      "    log1p(x, /)\n",
      "        Return the natural logarithm of 1+x (base e).\n",
      "        \n",
      "        The result is computed in a way which is accurate for x near zero.\n",
      "    \n",
      "    log2(x, /)\n",
      "        Return the base 2 logarithm of x.\n",
      "    \n",
      "    modf(x, /)\n",
      "        Return the fractional and integer parts of x.\n",
      "        \n",
      "        Both results carry the sign of x and are floats.\n",
      "    \n",
      "    perm(n, k=None, /)\n",
      "        Number of ways to choose k items from n items without repetition and with order.\n",
      "        \n",
      "        Evaluates to n! / (n - k)! when k <= n and evaluates\n",
      "        to zero when k > n.\n",
      "        \n",
      "        If k is not specified or is None, then k defaults to n\n",
      "        and the function returns n!.\n",
      "        \n",
      "        Raises TypeError if either of the arguments are not integers.\n",
      "        Raises ValueError if either of the arguments are negative.\n",
      "    \n",
      "    pow(x, y, /)\n",
      "        Return x**y (x to the power of y).\n",
      "    \n",
      "    prod(iterable, /, *, start=1)\n",
      "        Calculate the product of all the elements in the input iterable.\n",
      "        \n",
      "        The default start value for the product is 1.\n",
      "        \n",
      "        When the iterable is empty, return the start value.  This function is\n",
      "        intended specifically for use with numeric values and may reject\n",
      "        non-numeric types.\n",
      "    \n",
      "    radians(x, /)\n",
      "        Convert angle x from degrees to radians.\n",
      "    \n",
      "    remainder(x, y, /)\n",
      "        Difference between x and the closest integer multiple of y.\n",
      "        \n",
      "        Return x - n*y where n*y is the closest integer multiple of y.\n",
      "        In the case where x is exactly halfway between two multiples of\n",
      "        y, the nearest even value of n is used. The result is always exact.\n",
      "    \n",
      "    sin(x, /)\n",
      "        Return the sine of x (measured in radians).\n",
      "    \n",
      "    sinh(x, /)\n",
      "        Return the hyperbolic sine of x.\n",
      "    \n",
      "    sqrt(x, /)\n",
      "        Return the square root of x.\n",
      "    \n",
      "    tan(x, /)\n",
      "        Return the tangent of x (measured in radians).\n",
      "    \n",
      "    tanh(x, /)\n",
      "        Return the hyperbolic tangent of x.\n",
      "    \n",
      "    trunc(x, /)\n",
      "        Truncates the Real x to the nearest Integral toward 0.\n",
      "        \n",
      "        Uses the __trunc__ magic method.\n",
      "\n",
      "DATA\n",
      "    e = 2.718281828459045\n",
      "    inf = inf\n",
      "    nan = nan\n",
      "    pi = 3.141592653589793\n",
      "    tau = 6.283185307179586\n",
      "\n",
      "FILE\n",
      "    /Users/jingjiezhang/opt/anaconda3/lib/python3.8/lib-dynload/math.cpython-38-darwin.so\n",
      "\n",
      "\n"
     ]
    }
   ],
   "source": [
    "help(math)"
   ]
  },
  {
   "cell_type": "markdown",
   "id": "30951469",
   "metadata": {},
   "source": [
    "#### Exercise 5"
   ]
  },
  {
   "cell_type": "code",
   "execution_count": 81,
   "id": "8fe4737e",
   "metadata": {},
   "outputs": [
    {
     "name": "stdout",
     "output_type": "stream",
     "text": [
      "radius = 5\n",
      "The diameter is 10.0000.\n",
      "The surface area is 314.1593.\n",
      "The volumn is 523.5988.\n"
     ]
    }
   ],
   "source": [
    "import math\n",
    "r = int(input('radius = '))\n",
    "d = r*2\n",
    "surface_area = 4*math.pi*r**2\n",
    "volumn = 4/3*math.pi*r**3\n",
    "print('The diameter is %.4f.\\nThe surface area is %.4f.\\nThe volumn is %.4f.'%(d,surface_area,volumn)  )"
   ]
  },
  {
   "cell_type": "code",
   "execution_count": 82,
   "id": "b625f1a7",
   "metadata": {},
   "outputs": [
    {
     "name": "stdout",
     "output_type": "stream",
     "text": [
      "-1.0\n"
     ]
    }
   ],
   "source": [
    "print(math.cos(math.pi))"
   ]
  },
  {
   "cell_type": "markdown",
   "id": "54a0e9d7",
   "metadata": {},
   "source": [
    "\n",
    "\n",
    "\n",
    "\n",
    "\n",
    "\n",
    "\n",
    "\n",
    "\n",
    "\n",
    "\n",
    "\n",
    "\n",
    "\n",
    "\n"
   ]
  }
 ],
 "metadata": {
  "kernelspec": {
   "display_name": "Python 3 (ipykernel)",
   "language": "python",
   "name": "python3"
  },
  "language_info": {
   "codemirror_mode": {
    "name": "ipython",
    "version": 3
   },
   "file_extension": ".py",
   "mimetype": "text/x-python",
   "name": "python",
   "nbconvert_exporter": "python",
   "pygments_lexer": "ipython3",
   "version": "3.8.5"
  }
 },
 "nbformat": 4,
 "nbformat_minor": 5
}
